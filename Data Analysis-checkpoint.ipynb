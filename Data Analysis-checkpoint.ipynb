{
 "cells": [
  {
   "cell_type": "code",
   "execution_count": 19,
   "metadata": {},
   "outputs": [],
   "source": [
    "# Imports\n",
    "import pandas as pd\n",
    "import geopandas as gpd\n",
    "import geoplot\n",
    "import matplotlib.pyplot as plt\n",
    "from pyproj import CRS\n",
    "import seaborn as sns\n",
    "import numpy as np\n",
    "import re\n",
    "pd.set_option('display.max_columns', None)\n",
    "\n",
    "#This allows for multiple outputs from one cell to be shown \n",
    "from IPython.core.interactiveshell import InteractiveShell\n",
    "InteractiveShell.ast_node_interactivity = \"all\"\n",
    "pd.set_option('display.max_columns', None)\n",
    "\n",
    "import os\n",
    "os.chdir('C:/Users/felix/Desktop/NanoDegree')\n",
    "\n",
    "# Magic Functions\n",
    "%matplotlib inline"
   ]
  },
  {
   "cell_type": "code",
   "execution_count": 9,
   "metadata": {},
   "outputs": [],
   "source": [
    "listings_df = pd.read_csv('listings_processed.csv', parse_dates=[\"host_since\", \"last_scraped\"])\n",
    "calendar_df = pd.read_csv('calendar_processed.csv', parse_dates=['date'])"
   ]
  },
  {
   "cell_type": "code",
   "execution_count": 10,
   "metadata": {},
   "outputs": [
    {
     "data": {
      "text/plain": [
       "Index(['id', 'last_scraped', 'host_id', 'host_since', 'host_acceptance_rate',\n",
       "       'host_is_superhost', 'host_neighbourhood', 'host_listings_count',\n",
       "       'host_total_listings_count', 'host_verifications',\n",
       "       'host_has_profile_pic', 'host_identity_verified', 'neighbourhood',\n",
       "       'neighbourhood_cleansed', 'neighbourhood_group_cleansed', 'latitude',\n",
       "       'longitude', 'property_type', 'room_type', 'accommodates', 'bedrooms',\n",
       "       'beds', 'amenities', 'price', 'minimum_nights', 'maximum_nights',\n",
       "       'minimum_minimum_nights', 'maximum_minimum_nights',\n",
       "       'minimum_maximum_nights', 'maximum_maximum_nights',\n",
       "       'minimum_nights_avg_ntm', 'maximum_nights_avg_ntm', 'has_availability',\n",
       "       'availability_30', 'availability_60', 'availability_90',\n",
       "       'availability_365', 'number_of_reviews', 'number_of_reviews_ltm',\n",
       "       'number_of_reviews_l30d', 'first_review', 'last_review',\n",
       "       'review_scores_rating', 'review_scores_accuracy',\n",
       "       'review_scores_cleanliness', 'review_scores_checkin',\n",
       "       'review_scores_communication', 'review_scores_location',\n",
       "       'review_scores_value', 'instant_bookable',\n",
       "       'calculated_host_listings_count',\n",
       "       'calculated_host_listings_count_entire_homes',\n",
       "       'calculated_host_listings_count_private_rooms',\n",
       "       'calculated_host_listings_count_shared_rooms', 'reviews_per_month',\n",
       "       'host_4_Xdays'],\n",
       "      dtype='object')"
      ]
     },
     "execution_count": 10,
     "metadata": {},
     "output_type": "execute_result"
    },
    {
     "data": {
      "text/plain": [
       "Index(['listing_id', 'date', 'available', 'price', 'adjusted_price',\n",
       "       'minimum_nights', 'maximum_nights', '\"still\"_available_days_next_year',\n",
       "       'year_avg_price'],\n",
       "      dtype='object')"
      ]
     },
     "execution_count": 10,
     "metadata": {},
     "output_type": "execute_result"
    }
   ],
   "source": [
    "listings_df.columns\n",
    "calendar_df.columns"
   ]
  },
  {
   "cell_type": "code",
   "execution_count": 11,
   "metadata": {},
   "outputs": [
    {
     "data": {
      "text/html": [
       "<div>\n",
       "<style scoped>\n",
       "    .dataframe tbody tr th:only-of-type {\n",
       "        vertical-align: middle;\n",
       "    }\n",
       "\n",
       "    .dataframe tbody tr th {\n",
       "        vertical-align: top;\n",
       "    }\n",
       "\n",
       "    .dataframe thead th {\n",
       "        text-align: right;\n",
       "    }\n",
       "</style>\n",
       "<table border=\"1\" class=\"dataframe\">\n",
       "  <thead>\n",
       "    <tr style=\"text-align: right;\">\n",
       "      <th></th>\n",
       "      <th>neighbourhood_group</th>\n",
       "      <th>geometry</th>\n",
       "    </tr>\n",
       "  </thead>\n",
       "  <tbody>\n",
       "    <tr>\n",
       "      <th>0</th>\n",
       "      <td>Pankow</td>\n",
       "      <td>MULTIPOLYGON (((13.41191 52.61487, 13.41183 52...</td>\n",
       "    </tr>\n",
       "    <tr>\n",
       "      <th>1</th>\n",
       "      <td>Pankow</td>\n",
       "      <td>MULTIPOLYGON (((13.41405 52.54929, 13.41422 52...</td>\n",
       "    </tr>\n",
       "    <tr>\n",
       "      <th>2</th>\n",
       "      <td>Charlottenburg-Wilm.</td>\n",
       "      <td>MULTIPOLYGON (((13.30748 52.46788, 13.30743 52...</td>\n",
       "    </tr>\n",
       "    <tr>\n",
       "      <th>3</th>\n",
       "      <td>Treptow - Köpenick</td>\n",
       "      <td>MULTIPOLYGON (((13.70973 52.39630, 13.70926 52...</td>\n",
       "    </tr>\n",
       "    <tr>\n",
       "      <th>4</th>\n",
       "      <td>Treptow - Köpenick</td>\n",
       "      <td>MULTIPOLYGON (((13.73762 52.40850, 13.73773 52...</td>\n",
       "    </tr>\n",
       "    <tr>\n",
       "      <th>...</th>\n",
       "      <td>...</td>\n",
       "      <td>...</td>\n",
       "    </tr>\n",
       "    <tr>\n",
       "      <th>135</th>\n",
       "      <td>Marzahn - Hellersdorf</td>\n",
       "      <td>MULTIPOLYGON (((13.62135 52.52704, 13.62079 52...</td>\n",
       "    </tr>\n",
       "    <tr>\n",
       "      <th>136</th>\n",
       "      <td>Marzahn - Hellersdorf</td>\n",
       "      <td>MULTIPOLYGON (((13.65554 52.52982, 13.65693 52...</td>\n",
       "    </tr>\n",
       "    <tr>\n",
       "      <th>137</th>\n",
       "      <td>Reinickendorf</td>\n",
       "      <td>MULTIPOLYGON (((13.36666 52.55823, 13.36561 52...</td>\n",
       "    </tr>\n",
       "    <tr>\n",
       "      <th>138</th>\n",
       "      <td>Reinickendorf</td>\n",
       "      <td>MULTIPOLYGON (((13.36418 52.56298, 13.36423 52...</td>\n",
       "    </tr>\n",
       "    <tr>\n",
       "      <th>139</th>\n",
       "      <td>Reinickendorf</td>\n",
       "      <td>MULTIPOLYGON (((13.34846 52.60664, 13.34911 52...</td>\n",
       "    </tr>\n",
       "  </tbody>\n",
       "</table>\n",
       "<p>140 rows × 2 columns</p>\n",
       "</div>"
      ],
      "text/plain": [
       "       neighbourhood_group                                           geometry\n",
       "0                   Pankow  MULTIPOLYGON (((13.41191 52.61487, 13.41183 52...\n",
       "1                   Pankow  MULTIPOLYGON (((13.41405 52.54929, 13.41422 52...\n",
       "2     Charlottenburg-Wilm.  MULTIPOLYGON (((13.30748 52.46788, 13.30743 52...\n",
       "3       Treptow - Köpenick  MULTIPOLYGON (((13.70973 52.39630, 13.70926 52...\n",
       "4       Treptow - Köpenick  MULTIPOLYGON (((13.73762 52.40850, 13.73773 52...\n",
       "..                     ...                                                ...\n",
       "135  Marzahn - Hellersdorf  MULTIPOLYGON (((13.62135 52.52704, 13.62079 52...\n",
       "136  Marzahn - Hellersdorf  MULTIPOLYGON (((13.65554 52.52982, 13.65693 52...\n",
       "137          Reinickendorf  MULTIPOLYGON (((13.36666 52.55823, 13.36561 52...\n",
       "138          Reinickendorf  MULTIPOLYGON (((13.36418 52.56298, 13.36423 52...\n",
       "139          Reinickendorf  MULTIPOLYGON (((13.34846 52.60664, 13.34911 52...\n",
       "\n",
       "[140 rows x 2 columns]"
      ]
     },
     "execution_count": 11,
     "metadata": {},
     "output_type": "execute_result"
    },
    {
     "data": {
      "text/plain": [
       "<Geographic 2D CRS: EPSG:4326>\n",
       "Name: WGS 84\n",
       "Axis Info [ellipsoidal]:\n",
       "- Lat[north]: Geodetic latitude (degree)\n",
       "- Lon[east]: Geodetic longitude (degree)\n",
       "Area of Use:\n",
       "- name: World\n",
       "- bounds: (-180.0, -90.0, 180.0, 90.0)\n",
       "Datum: World Geodetic System 1984\n",
       "- Ellipsoid: WGS 84\n",
       "- Prime Meridian: Greenwich"
      ]
     },
     "execution_count": 11,
     "metadata": {},
     "output_type": "execute_result"
    }
   ],
   "source": [
    "neighbourhoods_geo = gpd.read_file('neighbourhoods.geojson')[[\"neighbourhood_group\", \"geometry\"]]\n",
    "neighbourhoods_geo\n",
    "neighbourhoods_geo.crs"
   ]
  },
  {
   "cell_type": "code",
   "execution_count": 12,
   "metadata": {},
   "outputs": [],
   "source": [
    "listings_df = listings_df.merge(neighbourhoods_geo, left_on='neighbourhood_group_cleansed', right_on='neighbourhood_group')\n",
    "listings_gdf = gpd.GeoDataFrame(listings_df, geometry='geometry')\n",
    "listings_gdf.crs = CRS('epsg:4326')"
   ]
  },
  {
   "cell_type": "code",
   "execution_count": 13,
   "metadata": {},
   "outputs": [
    {
     "data": {
      "text/plain": [
       "Treptow - Köpenick          20\n",
       "Charlottenburg-Wilm.        17\n",
       "Pankow                      16\n",
       "Lichtenberg                 13\n",
       "Reinickendorf               11\n",
       "Neukölln                    10\n",
       "Mitte                       10\n",
       "Spandau                      9\n",
       "Marzahn - Hellersdorf        9\n",
       "Friedrichshain-Kreuzberg     8\n",
       "Steglitz - Zehlendorf        8\n",
       "Tempelhof - Schöneberg       7\n",
       "Name: neighbourhood_group, dtype: int64"
      ]
     },
     "execution_count": 13,
     "metadata": {},
     "output_type": "execute_result"
    }
   ],
   "source": [
    "neighbourhoods_geo.neighbourhood_group.value_counts()"
   ]
  },
  {
   "cell_type": "code",
   "execution_count": 38,
   "metadata": {},
   "outputs": [
    {
     "data": {
      "text/plain": [
       "0           Mitte\n",
       "1           Mitte\n",
       "2           Mitte\n",
       "3           Mitte\n",
       "4           Mitte\n",
       "           ...   \n",
       "179386    Spandau\n",
       "179387    Spandau\n",
       "179388    Spandau\n",
       "179389    Spandau\n",
       "179390    Spandau\n",
       "Name: neighbourhood_group_cleansed_short, Length: 179391, dtype: object"
      ]
     },
     "execution_count": 38,
     "metadata": {},
     "output_type": "execute_result"
    }
   ],
   "source": [
    "listings_gdf['neighbourhood_group_cleansed_short'] = listings_gdf.neighbourhood_group_cleansed.str.slice(stop=15)\n",
    "listings_gdf['neighbourhood_group_cleansed_short']"
   ]
  },
  {
   "cell_type": "code",
   "execution_count": 39,
   "metadata": {
    "scrolled": false
   },
   "outputs": [
    {
     "data": {
      "text/plain": [
       "Pankow                      41808\n",
       "Mitte                       33510\n",
       "Friedrichshain-Kreuzberg    29816\n",
       "Neukölln                    23140\n",
       "Charlottenburg-Wilm.        20978\n",
       "Treptow - Köpenick           9620\n",
       "Tempelhof - Schöneberg       7525\n",
       "Lichtenberg                  6188\n",
       "Reinickendorf                2541\n",
       "Steglitz - Zehlendorf        2456\n",
       "Spandau                       945\n",
       "Marzahn - Hellersdorf         864\n",
       "Name: neighbourhood_group_cleansed, dtype: int64"
      ]
     },
     "execution_count": 39,
     "metadata": {},
     "output_type": "execute_result"
    }
   ],
   "source": [
    "listings_gdf.neighbourhood_group_cleansed.value_counts()"
   ]
  },
  {
   "cell_type": "code",
   "execution_count": 108,
   "metadata": {},
   "outputs": [
    {
     "data": {
      "text/plain": [
       "<seaborn.axisgrid.FacetGrid at 0x1e3ab315b50>"
      ]
     },
     "execution_count": 108,
     "metadata": {},
     "output_type": "execute_result"
    },
    {
     "data": {
      "text/plain": [
       "Text(0.5, 1.0, 'Price Comparison by Berlin Grouped Neighbourhood')"
      ]
     },
     "execution_count": 108,
     "metadata": {},
     "output_type": "execute_result"
    },
    {
     "data": {
      "image/png": "[encoded data removed]",
      "text/plain": [
       "<Figure size 1080x360 with 1 Axes>"
      ]
     },
     "metadata": {
      "needs_background": "light"
     },
     "output_type": "display_data"
    }
   ],
   "source": [
    "# Get mean price per night of listings within each neighbourhood\n",
    "neighbourhoods_avg_price = listings_gdf.groupby('neighbourhood_group_cleansed_short').price.mean().sort_values(ascending=False).reset_index()\n",
    "sns.catplot(x=\"neighbourhood_group_cleansed_short\", y = \"price\", data = listings_gdf, height = 5, aspect = 3, kind=\"bar\", order = neighbourhoods_avg_price.neighbourhood_group_cleansed_short)\n",
    "plt.title('Price Comparison by Berlin Grouped Neighbourhood', fontsize = 20)"
   ]
  },
  {
   "cell_type": "code",
   "execution_count": 87,
   "metadata": {},
   "outputs": [
    {
     "data": {
      "text/plain": [
       "0         POINT (13.32867 52.52884)\n",
       "1         POINT (13.41407 52.52107)\n",
       "2         POINT (13.39823 52.53390)\n",
       "3         POINT (13.36546 52.54814)\n",
       "4         POINT (13.35709 52.52554)\n",
       "                    ...            \n",
       "179386    POINT (13.26049 52.54219)\n",
       "179387    POINT (13.15145 52.47075)\n",
       "179388    POINT (13.22967 52.54864)\n",
       "179389    POINT (13.16375 52.55250)\n",
       "179390    POINT (13.20635 52.54579)\n",
       "Length: 179391, dtype: geometry"
      ]
     },
     "execution_count": 87,
     "metadata": {},
     "output_type": "execute_result"
    }
   ],
   "source": [
    "listings_gdf.representative_point()"
   ]
  },
  {
   "cell_type": "code",
   "execution_count": 86,
   "metadata": {},
   "outputs": [
    {
     "ename": "NameError",
     "evalue": "name 'add_geometry' is not defined",
     "output_type": "error",
     "traceback": [
      "\u001b[1;31m---------------------------------------------------------------------------\u001b[0m",
      "\u001b[1;31mNameError\u001b[0m                                 Traceback (most recent call last)",
      "\u001b[1;32m<ipython-input-86-c01d71132def>\u001b[0m in \u001b[0;36m<module>\u001b[1;34m\u001b[0m\n\u001b[1;32m----> 1\u001b[1;33m \u001b[0mneighbourhood_prices_geo\u001b[0m \u001b[1;33m=\u001b[0m \u001b[0madd_geometry\u001b[0m\u001b[1;33m(\u001b[0m\u001b[0mneighbourhoods_prices\u001b[0m\u001b[1;33m)\u001b[0m\u001b[1;33m\u001b[0m\u001b[1;33m\u001b[0m\u001b[0m\n\u001b[0m",
      "\u001b[1;31mNameError\u001b[0m: name 'add_geometry' is not defined"
     ]
    }
   ],
   "source": [
    "neighbourhood_prices_geo = add_geometry(neighbourhoods_prices)"
   ]
  },
  {
   "cell_type": "code",
   "execution_count": 116,
   "metadata": {},
   "outputs": [],
   "source": [
    "def add_geometry(df):\n",
    "    #df = df.reset_index() # reset index so merge is possible\n",
    "    neighbourhoods_geo = gpd.read_file('neighbourhoods.geojson')[[\"neighbourhood_group\", \"geometry\"]] # read neighbourhood shp\n",
    "    df = df.merge(neighbourhoods_geo, left_on='neighbourhood_group_cleansed', right_on='neighbourhood_group')\n",
    "    df = gpd.GeoDataFrame(df, geometry='geometry')\n",
    "    df.crs = {'init': 'EPSG:2249'}\n",
    "    df.to_crs(4326, inplace=True) # change projection to lat long\n",
    "    df['coords'] = df['geometry'].apply(lambda x: x.representative_point().coords[:])\n",
    "    df['coords'] = [coords[0] for coords in df['coords']] # create new coord feature for the annotation\n",
    "    return df"
   ]
  },
  {
   "cell_type": "code",
   "execution_count": 117,
   "metadata": {
    "scrolled": false
   },
   "outputs": [
    {
     "data": {
      "text/html": [
       "<div>\n",
       "<style scoped>\n",
       "    .dataframe tbody tr th:only-of-type {\n",
       "        vertical-align: middle;\n",
       "    }\n",
       "\n",
       "    .dataframe tbody tr th {\n",
       "        vertical-align: top;\n",
       "    }\n",
       "\n",
       "    .dataframe thead th {\n",
       "        text-align: right;\n",
       "    }\n",
       "</style>\n",
       "<table border=\"1\" class=\"dataframe\">\n",
       "  <thead>\n",
       "    <tr style=\"text-align: right;\">\n",
       "      <th></th>\n",
       "      <th>neighbourhood_group</th>\n",
       "      <th>geometry</th>\n",
       "    </tr>\n",
       "  </thead>\n",
       "  <tbody>\n",
       "    <tr>\n",
       "      <th>0</th>\n",
       "      <td>Pankow</td>\n",
       "      <td>MULTIPOLYGON (((13.41191 52.61487, 13.41183 52...</td>\n",
       "    </tr>\n",
       "    <tr>\n",
       "      <th>1</th>\n",
       "      <td>Pankow</td>\n",
       "      <td>MULTIPOLYGON (((13.41405 52.54929, 13.41422 52...</td>\n",
       "    </tr>\n",
       "    <tr>\n",
       "      <th>2</th>\n",
       "      <td>Charlottenburg-Wilm.</td>\n",
       "      <td>MULTIPOLYGON (((13.30748 52.46788, 13.30743 52...</td>\n",
       "    </tr>\n",
       "    <tr>\n",
       "      <th>3</th>\n",
       "      <td>Treptow - Köpenick</td>\n",
       "      <td>MULTIPOLYGON (((13.70973 52.39630, 13.70926 52...</td>\n",
       "    </tr>\n",
       "    <tr>\n",
       "      <th>4</th>\n",
       "      <td>Treptow - Köpenick</td>\n",
       "      <td>MULTIPOLYGON (((13.73762 52.40850, 13.73773 52...</td>\n",
       "    </tr>\n",
       "    <tr>\n",
       "      <th>...</th>\n",
       "      <td>...</td>\n",
       "      <td>...</td>\n",
       "    </tr>\n",
       "    <tr>\n",
       "      <th>135</th>\n",
       "      <td>Marzahn - Hellersdorf</td>\n",
       "      <td>MULTIPOLYGON (((13.62135 52.52704, 13.62079 52...</td>\n",
       "    </tr>\n",
       "    <tr>\n",
       "      <th>136</th>\n",
       "      <td>Marzahn - Hellersdorf</td>\n",
       "      <td>MULTIPOLYGON (((13.65554 52.52982, 13.65693 52...</td>\n",
       "    </tr>\n",
       "    <tr>\n",
       "      <th>137</th>\n",
       "      <td>Reinickendorf</td>\n",
       "      <td>MULTIPOLYGON (((13.36666 52.55823, 13.36561 52...</td>\n",
       "    </tr>\n",
       "    <tr>\n",
       "      <th>138</th>\n",
       "      <td>Reinickendorf</td>\n",
       "      <td>MULTIPOLYGON (((13.36418 52.56298, 13.36423 52...</td>\n",
       "    </tr>\n",
       "    <tr>\n",
       "      <th>139</th>\n",
       "      <td>Reinickendorf</td>\n",
       "      <td>MULTIPOLYGON (((13.34846 52.60664, 13.34911 52...</td>\n",
       "    </tr>\n",
       "  </tbody>\n",
       "</table>\n",
       "<p>140 rows × 2 columns</p>\n",
       "</div>"
      ],
      "text/plain": [
       "       neighbourhood_group                                           geometry\n",
       "0                   Pankow  MULTIPOLYGON (((13.41191 52.61487, 13.41183 52...\n",
       "1                   Pankow  MULTIPOLYGON (((13.41405 52.54929, 13.41422 52...\n",
       "2     Charlottenburg-Wilm.  MULTIPOLYGON (((13.30748 52.46788, 13.30743 52...\n",
       "3       Treptow - Köpenick  MULTIPOLYGON (((13.70973 52.39630, 13.70926 52...\n",
       "4       Treptow - Köpenick  MULTIPOLYGON (((13.73762 52.40850, 13.73773 52...\n",
       "..                     ...                                                ...\n",
       "135  Marzahn - Hellersdorf  MULTIPOLYGON (((13.62135 52.52704, 13.62079 52...\n",
       "136  Marzahn - Hellersdorf  MULTIPOLYGON (((13.65554 52.52982, 13.65693 52...\n",
       "137          Reinickendorf  MULTIPOLYGON (((13.36666 52.55823, 13.36561 52...\n",
       "138          Reinickendorf  MULTIPOLYGON (((13.36418 52.56298, 13.36423 52...\n",
       "139          Reinickendorf  MULTIPOLYGON (((13.34846 52.60664, 13.34911 52...\n",
       "\n",
       "[140 rows x 2 columns]"
      ]
     },
     "execution_count": 117,
     "metadata": {},
     "output_type": "execute_result"
    }
   ],
   "source": [
    "neighbourhoods_geo"
   ]
  },
  {
   "cell_type": "code",
   "execution_count": 118,
   "metadata": {},
   "outputs": [],
   "source": [
    "neighbourhoods_avg_price = listings_gdf.groupby('neighbourhood_group_cleansed').price.mean().sort_values(ascending=False).reset_index()"
   ]
  },
  {
   "cell_type": "code",
   "execution_count": 119,
   "metadata": {
    "scrolled": true
   },
   "outputs": [
    {
     "data": {
      "text/html": [
       "<div>\n",
       "<style scoped>\n",
       "    .dataframe tbody tr th:only-of-type {\n",
       "        vertical-align: middle;\n",
       "    }\n",
       "\n",
       "    .dataframe tbody tr th {\n",
       "        vertical-align: top;\n",
       "    }\n",
       "\n",
       "    .dataframe thead th {\n",
       "        text-align: right;\n",
       "    }\n",
       "</style>\n",
       "<table border=\"1\" class=\"dataframe\">\n",
       "  <thead>\n",
       "    <tr style=\"text-align: right;\">\n",
       "      <th></th>\n",
       "      <th>neighbourhood_group_cleansed</th>\n",
       "      <th>price</th>\n",
       "    </tr>\n",
       "  </thead>\n",
       "  <tbody>\n",
       "    <tr>\n",
       "      <th>0</th>\n",
       "      <td>Mitte</td>\n",
       "      <td>68.619161</td>\n",
       "    </tr>\n",
       "    <tr>\n",
       "      <th>1</th>\n",
       "      <td>Pankow</td>\n",
       "      <td>67.994282</td>\n",
       "    </tr>\n",
       "    <tr>\n",
       "      <th>2</th>\n",
       "      <td>Charlottenburg-Wilm.</td>\n",
       "      <td>64.131823</td>\n",
       "    </tr>\n",
       "    <tr>\n",
       "      <th>3</th>\n",
       "      <td>Friedrichshain-Kreuzberg</td>\n",
       "      <td>61.951999</td>\n",
       "    </tr>\n",
       "    <tr>\n",
       "      <th>4</th>\n",
       "      <td>Spandau</td>\n",
       "      <td>61.948857</td>\n",
       "    </tr>\n",
       "    <tr>\n",
       "      <th>5</th>\n",
       "      <td>Steglitz - Zehlendorf</td>\n",
       "      <td>61.918013</td>\n",
       "    </tr>\n",
       "    <tr>\n",
       "      <th>6</th>\n",
       "      <td>Marzahn - Hellersdorf</td>\n",
       "      <td>61.854167</td>\n",
       "    </tr>\n",
       "    <tr>\n",
       "      <th>7</th>\n",
       "      <td>Tempelhof - Schöneberg</td>\n",
       "      <td>60.340130</td>\n",
       "    </tr>\n",
       "    <tr>\n",
       "      <th>8</th>\n",
       "      <td>Treptow - Köpenick</td>\n",
       "      <td>58.489459</td>\n",
       "    </tr>\n",
       "    <tr>\n",
       "      <th>9</th>\n",
       "      <td>Neukölln</td>\n",
       "      <td>52.151452</td>\n",
       "    </tr>\n",
       "    <tr>\n",
       "      <th>10</th>\n",
       "      <td>Lichtenberg</td>\n",
       "      <td>50.002836</td>\n",
       "    </tr>\n",
       "    <tr>\n",
       "      <th>11</th>\n",
       "      <td>Reinickendorf</td>\n",
       "      <td>47.207143</td>\n",
       "    </tr>\n",
       "  </tbody>\n",
       "</table>\n",
       "</div>"
      ],
      "text/plain": [
       "   neighbourhood_group_cleansed      price\n",
       "0                         Mitte  68.619161\n",
       "1                        Pankow  67.994282\n",
       "2          Charlottenburg-Wilm.  64.131823\n",
       "3      Friedrichshain-Kreuzberg  61.951999\n",
       "4                       Spandau  61.948857\n",
       "5         Steglitz - Zehlendorf  61.918013\n",
       "6         Marzahn - Hellersdorf  61.854167\n",
       "7        Tempelhof - Schöneberg  60.340130\n",
       "8            Treptow - Köpenick  58.489459\n",
       "9                      Neukölln  52.151452\n",
       "10                  Lichtenberg  50.002836\n",
       "11                Reinickendorf  47.207143"
      ]
     },
     "execution_count": 119,
     "metadata": {},
     "output_type": "execute_result"
    }
   ],
   "source": [
    "neighbourhoods_avg_price"
   ]
  },
  {
   "cell_type": "code",
   "execution_count": 121,
   "metadata": {
    "scrolled": false
   },
   "outputs": [
    {
     "name": "stderr",
     "output_type": "stream",
     "text": [
      "C:\\ProgramData\\Anaconda3\\envs\\geo_env\\lib\\site-packages\\pyproj\\crs\\crs.py:53: FutureWarning: '+init=<authority>:<code>' syntax is deprecated. '<authority>:<code>' is the preferred initialization method. When making the change, be mindful of axis order changes: https://pyproj4.github.io/pyproj/stable/gotchas.html#axis-order-changes-in-proj-6\n",
      "  return _prepare_from_string(\" \".join(pjargs))\n"
     ]
    },
    {
     "data": {
      "text/html": [
       "<div>\n",
       "<style scoped>\n",
       "    .dataframe tbody tr th:only-of-type {\n",
       "        vertical-align: middle;\n",
       "    }\n",
       "\n",
       "    .dataframe tbody tr th {\n",
       "        vertical-align: top;\n",
       "    }\n",
       "\n",
       "    .dataframe thead th {\n",
       "        text-align: right;\n",
       "    }\n",
       "</style>\n",
       "<table border=\"1\" class=\"dataframe\">\n",
       "  <thead>\n",
       "    <tr style=\"text-align: right;\">\n",
       "      <th></th>\n",
       "      <th>neighbourhood_group_cleansed</th>\n",
       "      <th>price</th>\n",
       "      <th>neighbourhood_group</th>\n",
       "      <th>geometry</th>\n",
       "      <th>coords</th>\n",
       "    </tr>\n",
       "  </thead>\n",
       "  <tbody>\n",
       "    <tr>\n",
       "      <th>0</th>\n",
       "      <td>Mitte</td>\n",
       "      <td>68.619161</td>\n",
       "      <td>Mitte</td>\n",
       "      <td>MULTIPOLYGON (((-73.65135 34.24453, -73.65135 ...</td>\n",
       "      <td>(-73.65135156444208, 34.244530635355304)</td>\n",
       "    </tr>\n",
       "    <tr>\n",
       "      <th>1</th>\n",
       "      <td>Mitte</td>\n",
       "      <td>68.619161</td>\n",
       "      <td>Mitte</td>\n",
       "      <td>MULTIPOLYGON (((-73.65135 34.24453, -73.65135 ...</td>\n",
       "      <td>(-73.65135128378293, 34.24453061764582)</td>\n",
       "    </tr>\n",
       "    <tr>\n",
       "      <th>2</th>\n",
       "      <td>Mitte</td>\n",
       "      <td>68.619161</td>\n",
       "      <td>Mitte</td>\n",
       "      <td>MULTIPOLYGON (((-73.65135 34.24453, -73.65135 ...</td>\n",
       "      <td>(-73.65135133652996, 34.24453065279202)</td>\n",
       "    </tr>\n",
       "    <tr>\n",
       "      <th>3</th>\n",
       "      <td>Mitte</td>\n",
       "      <td>68.619161</td>\n",
       "      <td>Mitte</td>\n",
       "      <td>MULTIPOLYGON (((-73.65135 34.24453, -73.65135 ...</td>\n",
       "      <td>(-73.65135144616066, 34.24453068876649)</td>\n",
       "    </tr>\n",
       "    <tr>\n",
       "      <th>4</th>\n",
       "      <td>Mitte</td>\n",
       "      <td>68.619161</td>\n",
       "      <td>Mitte</td>\n",
       "      <td>MULTIPOLYGON (((-73.65135 34.24453, -73.65135 ...</td>\n",
       "      <td>(-73.65135146983152, 34.24453062692352)</td>\n",
       "    </tr>\n",
       "    <tr>\n",
       "      <th>...</th>\n",
       "      <td>...</td>\n",
       "      <td>...</td>\n",
       "      <td>...</td>\n",
       "      <td>...</td>\n",
       "      <td>...</td>\n",
       "    </tr>\n",
       "    <tr>\n",
       "      <th>133</th>\n",
       "      <td>Reinickendorf</td>\n",
       "      <td>47.207143</td>\n",
       "      <td>Reinickendorf</td>\n",
       "      <td>MULTIPOLYGON (((-73.65135 34.24453, -73.65135 ...</td>\n",
       "      <td>(-73.65135148758421, 34.244530825430566)</td>\n",
       "    </tr>\n",
       "    <tr>\n",
       "      <th>134</th>\n",
       "      <td>Reinickendorf</td>\n",
       "      <td>47.207143</td>\n",
       "      <td>Reinickendorf</td>\n",
       "      <td>MULTIPOLYGON (((-73.65135 34.24453, -73.65135 ...</td>\n",
       "      <td>(-73.65135172276004, 34.24453073670337)</td>\n",
       "    </tr>\n",
       "    <tr>\n",
       "      <th>135</th>\n",
       "      <td>Reinickendorf</td>\n",
       "      <td>47.207143</td>\n",
       "      <td>Reinickendorf</td>\n",
       "      <td>MULTIPOLYGON (((-73.65135 34.24453, -73.65135 ...</td>\n",
       "      <td>(-73.6513514227689, 34.24453074223)</td>\n",
       "    </tr>\n",
       "    <tr>\n",
       "      <th>136</th>\n",
       "      <td>Reinickendorf</td>\n",
       "      <td>47.207143</td>\n",
       "      <td>Reinickendorf</td>\n",
       "      <td>MULTIPOLYGON (((-73.65135 34.24453, -73.65135 ...</td>\n",
       "      <td>(-73.6513515110884, 34.24453076225449)</td>\n",
       "    </tr>\n",
       "    <tr>\n",
       "      <th>137</th>\n",
       "      <td>Reinickendorf</td>\n",
       "      <td>47.207143</td>\n",
       "      <td>Reinickendorf</td>\n",
       "      <td>MULTIPOLYGON (((-73.65135 34.24453, -73.65135 ...</td>\n",
       "      <td>(-73.65135154439699, 34.24453083872404)</td>\n",
       "    </tr>\n",
       "  </tbody>\n",
       "</table>\n",
       "<p>138 rows × 5 columns</p>\n",
       "</div>"
      ],
      "text/plain": [
       "    neighbourhood_group_cleansed      price neighbourhood_group  \\\n",
       "0                          Mitte  68.619161               Mitte   \n",
       "1                          Mitte  68.619161               Mitte   \n",
       "2                          Mitte  68.619161               Mitte   \n",
       "3                          Mitte  68.619161               Mitte   \n",
       "4                          Mitte  68.619161               Mitte   \n",
       "..                           ...        ...                 ...   \n",
       "133                Reinickendorf  47.207143       Reinickendorf   \n",
       "134                Reinickendorf  47.207143       Reinickendorf   \n",
       "135                Reinickendorf  47.207143       Reinickendorf   \n",
       "136                Reinickendorf  47.207143       Reinickendorf   \n",
       "137                Reinickendorf  47.207143       Reinickendorf   \n",
       "\n",
       "                                              geometry  \\\n",
       "0    MULTIPOLYGON (((-73.65135 34.24453, -73.65135 ...   \n",
       "1    MULTIPOLYGON (((-73.65135 34.24453, -73.65135 ...   \n",
       "2    MULTIPOLYGON (((-73.65135 34.24453, -73.65135 ...   \n",
       "3    MULTIPOLYGON (((-73.65135 34.24453, -73.65135 ...   \n",
       "4    MULTIPOLYGON (((-73.65135 34.24453, -73.65135 ...   \n",
       "..                                                 ...   \n",
       "133  MULTIPOLYGON (((-73.65135 34.24453, -73.65135 ...   \n",
       "134  MULTIPOLYGON (((-73.65135 34.24453, -73.65135 ...   \n",
       "135  MULTIPOLYGON (((-73.65135 34.24453, -73.65135 ...   \n",
       "136  MULTIPOLYGON (((-73.65135 34.24453, -73.65135 ...   \n",
       "137  MULTIPOLYGON (((-73.65135 34.24453, -73.65135 ...   \n",
       "\n",
       "                                       coords  \n",
       "0    (-73.65135156444208, 34.244530635355304)  \n",
       "1     (-73.65135128378293, 34.24453061764582)  \n",
       "2     (-73.65135133652996, 34.24453065279202)  \n",
       "3     (-73.65135144616066, 34.24453068876649)  \n",
       "4     (-73.65135146983152, 34.24453062692352)  \n",
       "..                                        ...  \n",
       "133  (-73.65135148758421, 34.244530825430566)  \n",
       "134   (-73.65135172276004, 34.24453073670337)  \n",
       "135       (-73.6513514227689, 34.24453074223)  \n",
       "136    (-73.6513515110884, 34.24453076225449)  \n",
       "137   (-73.65135154439699, 34.24453083872404)  \n",
       "\n",
       "[138 rows x 5 columns]"
      ]
     },
     "execution_count": 121,
     "metadata": {},
     "output_type": "execute_result"
    }
   ],
   "source": [
    "neighbourhood_prices_geo = add_geometry(neighbourhoods_avg_price)\n",
    "neighbourhood_prices_geo"
   ]
  },
  {
   "cell_type": "code",
   "execution_count": 148,
   "metadata": {},
   "outputs": [
    {
     "data": {
      "image/png": "[encoded data removed]",
      "text/plain": [
       "<Figure size 1080x360 with 2 Axes>"
      ]
     },
     "metadata": {
      "needs_background": "light"
     },
     "output_type": "display_data"
    }
   ],
   "source": [
    "fig, ax = plt.subplots(figsize = (15,5))\n",
    "geoplot.choropleth(neighbourhood_prices_geo, hue='price', cmap = 'RdYlGn', legend=True, ax=ax);"
   ]
  },
  {
   "cell_type": "code",
   "execution_count": null,
   "metadata": {},
   "outputs": [],
   "source": []
  },
  {
   "cell_type": "code",
   "execution_count": null,
   "metadata": {},
   "outputs": [],
   "source": []
  },
  {
   "cell_type": "code",
   "execution_count": null,
   "metadata": {},
   "outputs": [],
   "source": []
  },
  {
   "cell_type": "code",
   "execution_count": null,
   "metadata": {},
   "outputs": [],
   "source": []
  },
  {
   "cell_type": "code",
   "execution_count": null,
   "metadata": {},
   "outputs": [],
   "source": []
  },
  {
   "cell_type": "code",
   "execution_count": null,
   "metadata": {},
   "outputs": [],
   "source": []
  },
  {
   "cell_type": "code",
   "execution_count": null,
   "metadata": {},
   "outputs": [],
   "source": []
  },
  {
   "cell_type": "code",
   "execution_count": null,
   "metadata": {},
   "outputs": [],
   "source": []
  },
  {
   "cell_type": "code",
   "execution_count": null,
   "metadata": {},
   "outputs": [],
   "source": []
  },
  {
   "cell_type": "code",
   "execution_count": null,
   "metadata": {},
   "outputs": [],
   "source": []
  },
  {
   "cell_type": "code",
   "execution_count": null,
   "metadata": {},
   "outputs": [],
   "source": []
  },
  {
   "cell_type": "code",
   "execution_count": null,
   "metadata": {},
   "outputs": [],
   "source": []
  },
  {
   "cell_type": "code",
   "execution_count": null,
   "metadata": {},
   "outputs": [],
   "source": []
  },
  {
   "cell_type": "code",
   "execution_count": null,
   "metadata": {},
   "outputs": [],
   "source": []
  },
  {
   "cell_type": "code",
   "execution_count": null,
   "metadata": {},
   "outputs": [],
   "source": []
  },
  {
   "cell_type": "code",
   "execution_count": null,
   "metadata": {},
   "outputs": [],
   "source": []
  }
 ],
 "metadata": {
  "kernelspec": {
   "display_name": "Python 3",
   "language": "python",
   "name": "python3"
  },
  "language_info": {
   "codemirror_mode": {
    "name": "ipython",
    "version": 3
   },
   "file_extension": ".py",
   "mimetype": "text/x-python",
   "name": "python",
   "nbconvert_exporter": "python",
   "pygments_lexer": "ipython3",
   "version": "3.8.6"
  }
 },
 "nbformat": 4,
 "nbformat_minor": 4
}
