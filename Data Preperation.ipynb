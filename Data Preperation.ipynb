{
 "cells": [
  {
   "cell_type": "markdown",
   "metadata": {},
   "source": [
    "# **Data Processing for the Airbnb Berlin Dataset from http://insideairbnb.com/berlin**"
   ]
  },
  {
   "cell_type": "markdown",
   "metadata": {},
   "source": [
    "##### Qustions we want to answer:\n",
    "1. **What's the average price per (grouped) neighborhood in Berlin?**\n",
    "2. **What's the occupancy rate of airbnb listings in Berlin?**\n",
    "3. **What's the average revenue of airbnb listings in Berlin?**\n",
    "4. **Does being a Superhost effect the average revenue?**\n",
    "5. **How does this compare to the average revenue from normal rent in those neighbourhoods?**"
   ]
  },
  {
   "cell_type": "code",
   "execution_count": 1,
   "metadata": {},
   "outputs": [],
   "source": [
    "import numpy as np\n",
    "import pandas as pd\n",
    "import matplotlib.pyplot as plt\n",
    "import seaborn as sns\n",
    "import re\n",
    "\n",
    "#This allows for multiple outputs from one cell to be shown \n",
    "from IPython.core.interactiveshell import InteractiveShell\n",
    "InteractiveShell.ast_node_interactivity = \"all\"\n",
    "pd.set_option('display.max_columns', None)\n",
    "\n",
    "import os\n",
    "os.chdir('C:/Users/felix/Desktop/NanoDegree')\n",
    "\n",
    "# Magic Functions\n",
    "%matplotlib inline"
   ]
  },
  {
   "cell_type": "code",
   "execution_count": 2,
   "metadata": {},
   "outputs": [
    {
     "name": "stdout",
     "output_type": "stream",
     "text": [
      "0.11.0\n"
     ]
    }
   ],
   "source": [
    "print(sns.__version__)"
   ]
  },
  {
   "cell_type": "markdown",
   "metadata": {},
   "source": [
    "# Functions:"
   ]
  },
  {
   "cell_type": "code",
   "execution_count": 3,
   "metadata": {},
   "outputs": [],
   "source": [
    "def price_s2f(df, cols):\n",
    "    \"\"\"\n",
    "    INPUT:\n",
    "    df - the pandas dataframe containing the string price values\n",
    "    cols - list of string prices\n",
    "    \n",
    "    OUTPUT:\n",
    "    df - returns back the original dataframe with price columns as floats\n",
    "    \"\"\"\n",
    "    for col in cols:\n",
    "        if df[col].dtype == ('O'):\n",
    "            df.loc[:,col] = [re.sub(\"[^0-9 .]\", \"\", i) for i in df[col]] \n",
    "            df[col] = df[col].astype(float)\n",
    "    return\n",
    "\n",
    "def ft_to_01(x):\n",
    "    '''\n",
    "    replace f / t with 0 / 1\n",
    "    '''\n",
    "    if x=='f':\n",
    "        x=x.replace('f','0')\n",
    "    elif x=='t':\n",
    "        x=x.replace('t','1')\n",
    "    else:\n",
    "        x= '0'\n",
    "    return int(x)\n",
    "\n",
    "def ftBool_2_intBoolean(df, str_boolean_col):\n",
    "    '''\n",
    "    # Change the string_boolean (t / f) into int_boolean (1/0)\n",
    "    ''' \n",
    "    if (set(df[str_boolean_col])=={'t','f'}):\n",
    "        df[str_boolean_col]=df[str_boolean_col].apply(ft_to_01)\n",
    "    elif set(df[str_boolean_col])=={'t','f', np.nan}:\n",
    "        df[str_boolean_col]=df[str_boolean_col].apply(ft_to_01)    \n",
    "    \n",
    "    return    "
   ]
  },
  {
   "cell_type": "markdown",
   "metadata": {},
   "source": [
    "# Checking out: Listings Data\n",
    "\n",
    "In this section, the data regarding each listing of Airbnb will be ingested and processed for future analysis.\n",
    "\n",
    "The listing data holds information about each listing, such has review scores, verifications, requirements, amenities, type of property, bed, room, and much more."
   ]
  },
  {
   "cell_type": "markdown",
   "metadata": {},
   "source": [
    "### Read in columns with first 100 rows, check for columns of interest and read in those columns incl. all rows"
   ]
  },
  {
   "cell_type": "code",
   "execution_count": 4,
   "metadata": {},
   "outputs": [
    {
     "data": {
      "text/plain": [
       "Index(['id', 'listing_url', 'scrape_id', 'last_scraped', 'name', 'description',\n",
       "       'neighborhood_overview', 'picture_url', 'host_id', 'host_url',\n",
       "       'host_name', 'host_since', 'host_location', 'host_about',\n",
       "       'host_response_time', 'host_response_rate', 'host_acceptance_rate',\n",
       "       'host_is_superhost', 'host_thumbnail_url', 'host_picture_url',\n",
       "       'host_neighbourhood', 'host_listings_count',\n",
       "       'host_total_listings_count', 'host_verifications',\n",
       "       'host_has_profile_pic', 'host_identity_verified', 'neighbourhood',\n",
       "       'neighbourhood_cleansed', 'neighbourhood_group_cleansed', 'latitude',\n",
       "       'longitude', 'property_type', 'room_type', 'accommodates', 'bathrooms',\n",
       "       'bathrooms_text', 'bedrooms', 'beds', 'amenities', 'price',\n",
       "       'minimum_nights', 'maximum_nights', 'minimum_minimum_nights',\n",
       "       'maximum_minimum_nights', 'minimum_maximum_nights',\n",
       "       'maximum_maximum_nights', 'minimum_nights_avg_ntm',\n",
       "       'maximum_nights_avg_ntm', 'calendar_updated', 'has_availability',\n",
       "       'availability_30', 'availability_60', 'availability_90',\n",
       "       'availability_365', 'calendar_last_scraped', 'number_of_reviews',\n",
       "       'number_of_reviews_ltm', 'number_of_reviews_l30d', 'first_review',\n",
       "       'last_review', 'review_scores_rating', 'review_scores_accuracy',\n",
       "       'review_scores_cleanliness', 'review_scores_checkin',\n",
       "       'review_scores_communication', 'review_scores_location',\n",
       "       'review_scores_value', 'license', 'instant_bookable',\n",
       "       'calculated_host_listings_count',\n",
       "       'calculated_host_listings_count_entire_homes',\n",
       "       'calculated_host_listings_count_private_rooms',\n",
       "       'calculated_host_listings_count_shared_rooms', 'reviews_per_month'],\n",
       "      dtype='object')"
      ]
     },
     "execution_count": 4,
     "metadata": {},
     "output_type": "execute_result"
    }
   ],
   "source": [
    "column_check = pd.read_csv('listings.csv', nrows=100)\n",
    "column_check.columns"
   ]
  },
  {
   "cell_type": "code",
   "execution_count": 5,
   "metadata": {
    "scrolled": false
   },
   "outputs": [
    {
     "data": {
      "text/html": [
       "<div>\n",
       "<style scoped>\n",
       "    .dataframe tbody tr th:only-of-type {\n",
       "        vertical-align: middle;\n",
       "    }\n",
       "\n",
       "    .dataframe tbody tr th {\n",
       "        vertical-align: top;\n",
       "    }\n",
       "\n",
       "    .dataframe thead th {\n",
       "        text-align: right;\n",
       "    }\n",
       "</style>\n",
       "<table border=\"1\" class=\"dataframe\">\n",
       "  <thead>\n",
       "    <tr style=\"text-align: right;\">\n",
       "      <th></th>\n",
       "      <th>id</th>\n",
       "      <th>listing_url</th>\n",
       "      <th>scrape_id</th>\n",
       "      <th>last_scraped</th>\n",
       "      <th>name</th>\n",
       "      <th>description</th>\n",
       "      <th>neighborhood_overview</th>\n",
       "      <th>picture_url</th>\n",
       "      <th>host_id</th>\n",
       "      <th>host_url</th>\n",
       "      <th>host_name</th>\n",
       "      <th>host_since</th>\n",
       "      <th>host_location</th>\n",
       "      <th>host_about</th>\n",
       "      <th>host_response_time</th>\n",
       "      <th>host_response_rate</th>\n",
       "      <th>host_acceptance_rate</th>\n",
       "      <th>host_is_superhost</th>\n",
       "      <th>host_thumbnail_url</th>\n",
       "      <th>host_picture_url</th>\n",
       "      <th>host_neighbourhood</th>\n",
       "      <th>host_listings_count</th>\n",
       "      <th>host_total_listings_count</th>\n",
       "      <th>host_verifications</th>\n",
       "      <th>host_has_profile_pic</th>\n",
       "      <th>host_identity_verified</th>\n",
       "      <th>neighbourhood</th>\n",
       "      <th>neighbourhood_cleansed</th>\n",
       "      <th>neighbourhood_group_cleansed</th>\n",
       "      <th>latitude</th>\n",
       "      <th>longitude</th>\n",
       "      <th>property_type</th>\n",
       "      <th>room_type</th>\n",
       "      <th>accommodates</th>\n",
       "      <th>bathrooms</th>\n",
       "      <th>bathrooms_text</th>\n",
       "      <th>bedrooms</th>\n",
       "      <th>beds</th>\n",
       "      <th>amenities</th>\n",
       "      <th>price</th>\n",
       "      <th>minimum_nights</th>\n",
       "      <th>maximum_nights</th>\n",
       "      <th>minimum_minimum_nights</th>\n",
       "      <th>maximum_minimum_nights</th>\n",
       "      <th>minimum_maximum_nights</th>\n",
       "      <th>maximum_maximum_nights</th>\n",
       "      <th>minimum_nights_avg_ntm</th>\n",
       "      <th>maximum_nights_avg_ntm</th>\n",
       "      <th>calendar_updated</th>\n",
       "      <th>has_availability</th>\n",
       "      <th>availability_30</th>\n",
       "      <th>availability_60</th>\n",
       "      <th>availability_90</th>\n",
       "      <th>availability_365</th>\n",
       "      <th>calendar_last_scraped</th>\n",
       "      <th>number_of_reviews</th>\n",
       "      <th>number_of_reviews_ltm</th>\n",
       "      <th>number_of_reviews_l30d</th>\n",
       "      <th>first_review</th>\n",
       "      <th>last_review</th>\n",
       "      <th>review_scores_rating</th>\n",
       "      <th>review_scores_accuracy</th>\n",
       "      <th>review_scores_cleanliness</th>\n",
       "      <th>review_scores_checkin</th>\n",
       "      <th>review_scores_communication</th>\n",
       "      <th>review_scores_location</th>\n",
       "      <th>review_scores_value</th>\n",
       "      <th>license</th>\n",
       "      <th>instant_bookable</th>\n",
       "      <th>calculated_host_listings_count</th>\n",
       "      <th>calculated_host_listings_count_entire_homes</th>\n",
       "      <th>calculated_host_listings_count_private_rooms</th>\n",
       "      <th>calculated_host_listings_count_shared_rooms</th>\n",
       "      <th>reviews_per_month</th>\n",
       "    </tr>\n",
       "  </thead>\n",
       "  <tbody>\n",
       "    <tr>\n",
       "      <th>15</th>\n",
       "      <td>28156</td>\n",
       "      <td>https://www.airbnb.com/rooms/28156</td>\n",
       "      <td>20201013162227</td>\n",
       "      <td>2020-10-17</td>\n",
       "      <td>Beautiful apartment in Prenzlauer Berg</td>\n",
       "      <td>The apartment is located on the upper ground f...</td>\n",
       "      <td>NaN</td>\n",
       "      <td>https://a0.muscache.com/pictures/508550/1f0ea8...</td>\n",
       "      <td>55531</td>\n",
       "      <td>https://www.airbnb.com/users/show/55531</td>\n",
       "      <td>Chris + Oliver</td>\n",
       "      <td>2009-11-18</td>\n",
       "      <td>Berlin, Berlin, Germany</td>\n",
       "      <td>From Berlin, Germany. We love to travel!</td>\n",
       "      <td>within a day</td>\n",
       "      <td>100%</td>\n",
       "      <td>80%</td>\n",
       "      <td>t</td>\n",
       "      <td>https://a0.muscache.com/im/users/55531/profile...</td>\n",
       "      <td>https://a0.muscache.com/im/users/55531/profile...</td>\n",
       "      <td>Prenzlauer Berg</td>\n",
       "      <td>4</td>\n",
       "      <td>4</td>\n",
       "      <td>['email', 'phone', 'reviews', 'jumio', 'offlin...</td>\n",
       "      <td>t</td>\n",
       "      <td>t</td>\n",
       "      <td>NaN</td>\n",
       "      <td>Prenzlauer Berg Nordwest</td>\n",
       "      <td>Pankow</td>\n",
       "      <td>52.54672</td>\n",
       "      <td>13.40512</td>\n",
       "      <td>Entire apartment</td>\n",
       "      <td>Entire home/apt</td>\n",
       "      <td>1</td>\n",
       "      <td>NaN</td>\n",
       "      <td>1 bath</td>\n",
       "      <td>NaN</td>\n",
       "      <td>1</td>\n",
       "      <td>[\"Hangers\", \"Wifi\", \"Private entrance\", \"Host ...</td>\n",
       "      <td>$70.00</td>\n",
       "      <td>90</td>\n",
       "      <td>1125</td>\n",
       "      <td>90</td>\n",
       "      <td>90</td>\n",
       "      <td>1125</td>\n",
       "      <td>1125</td>\n",
       "      <td>90.0</td>\n",
       "      <td>1125.0</td>\n",
       "      <td>NaN</td>\n",
       "      <td>t</td>\n",
       "      <td>0</td>\n",
       "      <td>0</td>\n",
       "      <td>0</td>\n",
       "      <td>257</td>\n",
       "      <td>2020-10-17</td>\n",
       "      <td>32</td>\n",
       "      <td>2</td>\n",
       "      <td>0</td>\n",
       "      <td>2010-11-23</td>\n",
       "      <td>2020-05-31</td>\n",
       "      <td>93.0</td>\n",
       "      <td>9.0</td>\n",
       "      <td>10.0</td>\n",
       "      <td>10.0</td>\n",
       "      <td>10.0</td>\n",
       "      <td>9.0</td>\n",
       "      <td>9.0</td>\n",
       "      <td>NaN</td>\n",
       "      <td>f</td>\n",
       "      <td>3</td>\n",
       "      <td>3</td>\n",
       "      <td>0</td>\n",
       "      <td>0</td>\n",
       "      <td>0.27</td>\n",
       "    </tr>\n",
       "    <tr>\n",
       "      <th>85</th>\n",
       "      <td>168615</td>\n",
       "      <td>https://www.airbnb.com/rooms/168615</td>\n",
       "      <td>20201013162227</td>\n",
       "      <td>2020-10-16</td>\n",
       "      <td>STAYINTOWN - Apartment in Berlin</td>\n",
       "      <td>&lt;b&gt;The space&lt;/b&gt;&lt;br /&gt;The apartment is located...</td>\n",
       "      <td>NaN</td>\n",
       "      <td>https://a0.muscache.com/pictures/1064708/04951...</td>\n",
       "      <td>803717</td>\n",
       "      <td>https://www.airbnb.com/users/show/803717</td>\n",
       "      <td>Dirk</td>\n",
       "      <td>2011-07-11</td>\n",
       "      <td>Berlin, Berlin, Germany</td>\n",
       "      <td>Hallo liebe Gäste,\\r\\nich bin Dirk und vermiet...</td>\n",
       "      <td>within an hour</td>\n",
       "      <td>100%</td>\n",
       "      <td>100%</td>\n",
       "      <td>f</td>\n",
       "      <td>https://a0.muscache.com/im/users/803717/profil...</td>\n",
       "      <td>https://a0.muscache.com/im/users/803717/profil...</td>\n",
       "      <td>Heinersdorf</td>\n",
       "      <td>1</td>\n",
       "      <td>1</td>\n",
       "      <td>['email', 'phone', 'reviews', 'jumio', 'offlin...</td>\n",
       "      <td>t</td>\n",
       "      <td>t</td>\n",
       "      <td>NaN</td>\n",
       "      <td>Blankenburg/Heinersdorf/Märchenland</td>\n",
       "      <td>Pankow</td>\n",
       "      <td>52.58055</td>\n",
       "      <td>13.44539</td>\n",
       "      <td>Entire apartment</td>\n",
       "      <td>Entire home/apt</td>\n",
       "      <td>3</td>\n",
       "      <td>NaN</td>\n",
       "      <td>1 bath</td>\n",
       "      <td>1.0</td>\n",
       "      <td>2</td>\n",
       "      <td>[\"Hangers\", \"High chair\", \"Hot water\", \"Pack \\...</td>\n",
       "      <td>$49.00</td>\n",
       "      <td>2</td>\n",
       "      <td>1125</td>\n",
       "      <td>2</td>\n",
       "      <td>2</td>\n",
       "      <td>1125</td>\n",
       "      <td>1125</td>\n",
       "      <td>2.0</td>\n",
       "      <td>1125.0</td>\n",
       "      <td>NaN</td>\n",
       "      <td>t</td>\n",
       "      <td>29</td>\n",
       "      <td>59</td>\n",
       "      <td>83</td>\n",
       "      <td>358</td>\n",
       "      <td>2020-10-16</td>\n",
       "      <td>7</td>\n",
       "      <td>0</td>\n",
       "      <td>0</td>\n",
       "      <td>2012-07-09</td>\n",
       "      <td>2019-03-05</td>\n",
       "      <td>100.0</td>\n",
       "      <td>10.0</td>\n",
       "      <td>10.0</td>\n",
       "      <td>10.0</td>\n",
       "      <td>10.0</td>\n",
       "      <td>9.0</td>\n",
       "      <td>10.0</td>\n",
       "      <td>03/Z/AZ/004644-19</td>\n",
       "      <td>f</td>\n",
       "      <td>1</td>\n",
       "      <td>1</td>\n",
       "      <td>0</td>\n",
       "      <td>0</td>\n",
       "      <td>0.07</td>\n",
       "    </tr>\n",
       "  </tbody>\n",
       "</table>\n",
       "</div>"
      ],
      "text/plain": [
       "        id                          listing_url       scrape_id last_scraped  \\\n",
       "15   28156   https://www.airbnb.com/rooms/28156  20201013162227   2020-10-17   \n",
       "85  168615  https://www.airbnb.com/rooms/168615  20201013162227   2020-10-16   \n",
       "\n",
       "                                      name  \\\n",
       "15  Beautiful apartment in Prenzlauer Berg   \n",
       "85        STAYINTOWN - Apartment in Berlin   \n",
       "\n",
       "                                          description neighborhood_overview  \\\n",
       "15  The apartment is located on the upper ground f...                   NaN   \n",
       "85  <b>The space</b><br />The apartment is located...                   NaN   \n",
       "\n",
       "                                          picture_url  host_id  \\\n",
       "15  https://a0.muscache.com/pictures/508550/1f0ea8...    55531   \n",
       "85  https://a0.muscache.com/pictures/1064708/04951...   803717   \n",
       "\n",
       "                                    host_url       host_name  host_since  \\\n",
       "15   https://www.airbnb.com/users/show/55531  Chris + Oliver  2009-11-18   \n",
       "85  https://www.airbnb.com/users/show/803717            Dirk  2011-07-11   \n",
       "\n",
       "              host_location  \\\n",
       "15  Berlin, Berlin, Germany   \n",
       "85  Berlin, Berlin, Germany   \n",
       "\n",
       "                                           host_about host_response_time  \\\n",
       "15           From Berlin, Germany. We love to travel!       within a day   \n",
       "85  Hallo liebe Gäste,\\r\\nich bin Dirk und vermiet...     within an hour   \n",
       "\n",
       "   host_response_rate host_acceptance_rate host_is_superhost  \\\n",
       "15               100%                  80%                 t   \n",
       "85               100%                 100%                 f   \n",
       "\n",
       "                                   host_thumbnail_url  \\\n",
       "15  https://a0.muscache.com/im/users/55531/profile...   \n",
       "85  https://a0.muscache.com/im/users/803717/profil...   \n",
       "\n",
       "                                     host_picture_url host_neighbourhood  \\\n",
       "15  https://a0.muscache.com/im/users/55531/profile...    Prenzlauer Berg   \n",
       "85  https://a0.muscache.com/im/users/803717/profil...        Heinersdorf   \n",
       "\n",
       "    host_listings_count  host_total_listings_count  \\\n",
       "15                    4                          4   \n",
       "85                    1                          1   \n",
       "\n",
       "                                   host_verifications host_has_profile_pic  \\\n",
       "15  ['email', 'phone', 'reviews', 'jumio', 'offlin...                    t   \n",
       "85  ['email', 'phone', 'reviews', 'jumio', 'offlin...                    t   \n",
       "\n",
       "   host_identity_verified neighbourhood               neighbourhood_cleansed  \\\n",
       "15                      t           NaN             Prenzlauer Berg Nordwest   \n",
       "85                      t           NaN  Blankenburg/Heinersdorf/Märchenland   \n",
       "\n",
       "   neighbourhood_group_cleansed  latitude  longitude     property_type  \\\n",
       "15                       Pankow  52.54672   13.40512  Entire apartment   \n",
       "85                       Pankow  52.58055   13.44539  Entire apartment   \n",
       "\n",
       "          room_type  accommodates  bathrooms bathrooms_text  bedrooms  beds  \\\n",
       "15  Entire home/apt             1        NaN         1 bath       NaN     1   \n",
       "85  Entire home/apt             3        NaN         1 bath       1.0     2   \n",
       "\n",
       "                                            amenities   price  minimum_nights  \\\n",
       "15  [\"Hangers\", \"Wifi\", \"Private entrance\", \"Host ...  $70.00              90   \n",
       "85  [\"Hangers\", \"High chair\", \"Hot water\", \"Pack \\...  $49.00               2   \n",
       "\n",
       "    maximum_nights  minimum_minimum_nights  maximum_minimum_nights  \\\n",
       "15            1125                      90                      90   \n",
       "85            1125                       2                       2   \n",
       "\n",
       "    minimum_maximum_nights  maximum_maximum_nights  minimum_nights_avg_ntm  \\\n",
       "15                    1125                    1125                    90.0   \n",
       "85                    1125                    1125                     2.0   \n",
       "\n",
       "    maximum_nights_avg_ntm  calendar_updated has_availability  \\\n",
       "15                  1125.0               NaN                t   \n",
       "85                  1125.0               NaN                t   \n",
       "\n",
       "    availability_30  availability_60  availability_90  availability_365  \\\n",
       "15                0                0                0               257   \n",
       "85               29               59               83               358   \n",
       "\n",
       "   calendar_last_scraped  number_of_reviews  number_of_reviews_ltm  \\\n",
       "15            2020-10-17                 32                      2   \n",
       "85            2020-10-16                  7                      0   \n",
       "\n",
       "    number_of_reviews_l30d first_review last_review  review_scores_rating  \\\n",
       "15                       0   2010-11-23  2020-05-31                  93.0   \n",
       "85                       0   2012-07-09  2019-03-05                 100.0   \n",
       "\n",
       "    review_scores_accuracy  review_scores_cleanliness  review_scores_checkin  \\\n",
       "15                     9.0                       10.0                   10.0   \n",
       "85                    10.0                       10.0                   10.0   \n",
       "\n",
       "    review_scores_communication  review_scores_location  review_scores_value  \\\n",
       "15                         10.0                     9.0                  9.0   \n",
       "85                         10.0                     9.0                 10.0   \n",
       "\n",
       "              license instant_bookable  calculated_host_listings_count  \\\n",
       "15                NaN                f                               3   \n",
       "85  03/Z/AZ/004644-19                f                               1   \n",
       "\n",
       "    calculated_host_listings_count_entire_homes  \\\n",
       "15                                            3   \n",
       "85                                            1   \n",
       "\n",
       "    calculated_host_listings_count_private_rooms  \\\n",
       "15                                             0   \n",
       "85                                             0   \n",
       "\n",
       "    calculated_host_listings_count_shared_rooms  reviews_per_month  \n",
       "15                                            0               0.27  \n",
       "85                                            0               0.07  "
      ]
     },
     "execution_count": 5,
     "metadata": {},
     "output_type": "execute_result"
    }
   ],
   "source": [
    "column_check.sample(2) "
   ]
  },
  {
   "cell_type": "code",
   "execution_count": 6,
   "metadata": {},
   "outputs": [],
   "source": [
    "## Read in columns evaluated as relevant for this project\n",
    "df = pd.read_csv('listings.csv', usecols= [\n",
    "       'id',\n",
    "       'host_id',\n",
    "       \"last_scraped\",\n",
    "       'host_since', \n",
    "       'host_response_time', \n",
    "       'host_response_rate', \n",
    "       'host_acceptance_rate',\n",
    "       'host_is_superhost', \n",
    "       'host_neighbourhood', \n",
    "       'host_listings_count',\n",
    "       'host_total_listings_count', \n",
    "       'host_verifications',\n",
    "       'host_has_profile_pic', \n",
    "       'host_identity_verified', \n",
    "       'neighbourhood',\n",
    "       'neighbourhood_cleansed', \n",
    "       'neighbourhood_group_cleansed', \n",
    "       'latitude',\n",
    "       'longitude', \n",
    "       'property_type', \n",
    "       'room_type', \n",
    "       'accommodates', \n",
    "       'bedrooms', \n",
    "       'beds', \n",
    "       'amenities', \n",
    "       'price',\n",
    "       'minimum_nights', 'maximum_nights', 'minimum_minimum_nights',\n",
    "       'maximum_minimum_nights', 'minimum_maximum_nights',\n",
    "       'maximum_maximum_nights', 'minimum_nights_avg_ntm',\n",
    "       'maximum_nights_avg_ntm', \n",
    "       'has_availability', 'availability_30', 'availability_60', 'availability_90', 'availability_365', \n",
    "       'number_of_reviews', 'number_of_reviews_ltm', 'number_of_reviews_l30d', \n",
    "       'first_review', 'last_review', 'review_scores_rating', \n",
    "       'review_scores_accuracy', 'review_scores_cleanliness', 'review_scores_checkin',\n",
    "       'review_scores_communication', 'review_scores_location',\n",
    "       'review_scores_value', 'license', 'instant_bookable',\n",
    "       'calculated_host_listings_count',\n",
    "       'calculated_host_listings_count_entire_homes',\n",
    "       'calculated_host_listings_count_private_rooms',\n",
    "       'reviews_per_month',\n",
    "       'calculated_host_listings_count_shared_rooms'\n",
    "       ], parse_dates=[\n",
    "    \"host_since\", \n",
    "    \"first_review\",\n",
    "    \"last_review\", \n",
    "    \"last_scraped\"])"
   ]
  },
  {
   "cell_type": "code",
   "execution_count": 7,
   "metadata": {},
   "outputs": [
    {
     "data": {
      "text/html": [
       "<div>\n",
       "<style scoped>\n",
       "    .dataframe tbody tr th:only-of-type {\n",
       "        vertical-align: middle;\n",
       "    }\n",
       "\n",
       "    .dataframe tbody tr th {\n",
       "        vertical-align: top;\n",
       "    }\n",
       "\n",
       "    .dataframe thead th {\n",
       "        text-align: right;\n",
       "    }\n",
       "</style>\n",
       "<table border=\"1\" class=\"dataframe\">\n",
       "  <thead>\n",
       "    <tr style=\"text-align: right;\">\n",
       "      <th></th>\n",
       "      <th>id</th>\n",
       "      <th>host_id</th>\n",
       "      <th>host_listings_count</th>\n",
       "      <th>host_total_listings_count</th>\n",
       "      <th>latitude</th>\n",
       "      <th>longitude</th>\n",
       "      <th>accommodates</th>\n",
       "      <th>bedrooms</th>\n",
       "      <th>beds</th>\n",
       "      <th>minimum_nights</th>\n",
       "      <th>maximum_nights</th>\n",
       "      <th>minimum_minimum_nights</th>\n",
       "      <th>maximum_minimum_nights</th>\n",
       "      <th>minimum_maximum_nights</th>\n",
       "      <th>maximum_maximum_nights</th>\n",
       "      <th>minimum_nights_avg_ntm</th>\n",
       "      <th>maximum_nights_avg_ntm</th>\n",
       "      <th>availability_30</th>\n",
       "      <th>availability_60</th>\n",
       "      <th>availability_90</th>\n",
       "      <th>availability_365</th>\n",
       "      <th>number_of_reviews</th>\n",
       "      <th>number_of_reviews_ltm</th>\n",
       "      <th>number_of_reviews_l30d</th>\n",
       "      <th>review_scores_rating</th>\n",
       "      <th>review_scores_accuracy</th>\n",
       "      <th>review_scores_cleanliness</th>\n",
       "      <th>review_scores_checkin</th>\n",
       "      <th>review_scores_communication</th>\n",
       "      <th>review_scores_location</th>\n",
       "      <th>review_scores_value</th>\n",
       "      <th>calculated_host_listings_count</th>\n",
       "      <th>calculated_host_listings_count_entire_homes</th>\n",
       "      <th>calculated_host_listings_count_private_rooms</th>\n",
       "      <th>calculated_host_listings_count_shared_rooms</th>\n",
       "      <th>reviews_per_month</th>\n",
       "    </tr>\n",
       "  </thead>\n",
       "  <tbody>\n",
       "    <tr>\n",
       "      <th>count</th>\n",
       "      <td>2.022700e+04</td>\n",
       "      <td>2.022700e+04</td>\n",
       "      <td>20215.000000</td>\n",
       "      <td>20215.000000</td>\n",
       "      <td>20227.000000</td>\n",
       "      <td>20227.000000</td>\n",
       "      <td>20227.000000</td>\n",
       "      <td>18542.000000</td>\n",
       "      <td>19975.000000</td>\n",
       "      <td>20227.000000</td>\n",
       "      <td>20227.000000</td>\n",
       "      <td>20224.000000</td>\n",
       "      <td>20224.000000</td>\n",
       "      <td>20224.000000</td>\n",
       "      <td>2.022400e+04</td>\n",
       "      <td>20224.000000</td>\n",
       "      <td>2.022400e+04</td>\n",
       "      <td>20227.000000</td>\n",
       "      <td>20227.000000</td>\n",
       "      <td>20227.000000</td>\n",
       "      <td>20227.000000</td>\n",
       "      <td>20227.000000</td>\n",
       "      <td>20227.000000</td>\n",
       "      <td>20227.000000</td>\n",
       "      <td>16053.000000</td>\n",
       "      <td>16034.000000</td>\n",
       "      <td>16035.000000</td>\n",
       "      <td>16021.000000</td>\n",
       "      <td>16032.000000</td>\n",
       "      <td>16023.000000</td>\n",
       "      <td>16020.000000</td>\n",
       "      <td>20227.000000</td>\n",
       "      <td>20227.000000</td>\n",
       "      <td>20227.000000</td>\n",
       "      <td>20227.000000</td>\n",
       "      <td>16460.000000</td>\n",
       "    </tr>\n",
       "    <tr>\n",
       "      <th>mean</th>\n",
       "      <td>2.361542e+07</td>\n",
       "      <td>8.551713e+07</td>\n",
       "      <td>3.870047</td>\n",
       "      <td>3.870047</td>\n",
       "      <td>52.510246</td>\n",
       "      <td>13.404865</td>\n",
       "      <td>2.741781</td>\n",
       "      <td>1.275105</td>\n",
       "      <td>1.657822</td>\n",
       "      <td>7.990063</td>\n",
       "      <td>595.667227</td>\n",
       "      <td>7.802215</td>\n",
       "      <td>8.314676</td>\n",
       "      <td>703.659662</td>\n",
       "      <td>2.130797e+05</td>\n",
       "      <td>8.070372</td>\n",
       "      <td>2.120997e+05</td>\n",
       "      <td>6.900826</td>\n",
       "      <td>15.518663</td>\n",
       "      <td>25.023434</td>\n",
       "      <td>87.639294</td>\n",
       "      <td>23.140258</td>\n",
       "      <td>4.503832</td>\n",
       "      <td>0.312701</td>\n",
       "      <td>94.686165</td>\n",
       "      <td>9.680554</td>\n",
       "      <td>9.338759</td>\n",
       "      <td>9.741215</td>\n",
       "      <td>9.745010</td>\n",
       "      <td>9.619110</td>\n",
       "      <td>9.407928</td>\n",
       "      <td>2.823108</td>\n",
       "      <td>1.818362</td>\n",
       "      <td>0.724428</td>\n",
       "      <td>0.175706</td>\n",
       "      <td>0.843584</td>\n",
       "    </tr>\n",
       "    <tr>\n",
       "      <th>std</th>\n",
       "      <td>1.372947e+07</td>\n",
       "      <td>9.821869e+07</td>\n",
       "      <td>28.348926</td>\n",
       "      <td>28.348926</td>\n",
       "      <td>0.031903</td>\n",
       "      <td>0.062069</td>\n",
       "      <td>1.634844</td>\n",
       "      <td>0.770936</td>\n",
       "      <td>1.593302</td>\n",
       "      <td>30.525101</td>\n",
       "      <td>542.864669</td>\n",
       "      <td>30.110675</td>\n",
       "      <td>30.849713</td>\n",
       "      <td>556.742415</td>\n",
       "      <td>2.135504e+07</td>\n",
       "      <td>30.277879</td>\n",
       "      <td>2.125686e+07</td>\n",
       "      <td>11.061873</td>\n",
       "      <td>23.259738</td>\n",
       "      <td>34.938178</td>\n",
       "      <td>128.382964</td>\n",
       "      <td>48.747977</td>\n",
       "      <td>10.307596</td>\n",
       "      <td>1.083829</td>\n",
       "      <td>7.849939</td>\n",
       "      <td>0.774274</td>\n",
       "      <td>1.036922</td>\n",
       "      <td>0.709446</td>\n",
       "      <td>0.712997</td>\n",
       "      <td>0.734445</td>\n",
       "      <td>0.865050</td>\n",
       "      <td>6.521288</td>\n",
       "      <td>5.800622</td>\n",
       "      <td>1.435346</td>\n",
       "      <td>2.207266</td>\n",
       "      <td>1.218423</td>\n",
       "    </tr>\n",
       "    <tr>\n",
       "      <th>min</th>\n",
       "      <td>2.015000e+03</td>\n",
       "      <td>1.581000e+03</td>\n",
       "      <td>0.000000</td>\n",
       "      <td>0.000000</td>\n",
       "      <td>52.340410</td>\n",
       "      <td>13.098390</td>\n",
       "      <td>0.000000</td>\n",
       "      <td>1.000000</td>\n",
       "      <td>0.000000</td>\n",
       "      <td>1.000000</td>\n",
       "      <td>1.000000</td>\n",
       "      <td>1.000000</td>\n",
       "      <td>1.000000</td>\n",
       "      <td>1.000000</td>\n",
       "      <td>1.000000e+00</td>\n",
       "      <td>1.000000</td>\n",
       "      <td>1.000000e+00</td>\n",
       "      <td>0.000000</td>\n",
       "      <td>0.000000</td>\n",
       "      <td>0.000000</td>\n",
       "      <td>0.000000</td>\n",
       "      <td>0.000000</td>\n",
       "      <td>0.000000</td>\n",
       "      <td>0.000000</td>\n",
       "      <td>20.000000</td>\n",
       "      <td>2.000000</td>\n",
       "      <td>2.000000</td>\n",
       "      <td>2.000000</td>\n",
       "      <td>2.000000</td>\n",
       "      <td>2.000000</td>\n",
       "      <td>2.000000</td>\n",
       "      <td>1.000000</td>\n",
       "      <td>0.000000</td>\n",
       "      <td>0.000000</td>\n",
       "      <td>0.000000</td>\n",
       "      <td>0.010000</td>\n",
       "    </tr>\n",
       "    <tr>\n",
       "      <th>25%</th>\n",
       "      <td>1.181564e+07</td>\n",
       "      <td>1.079583e+07</td>\n",
       "      <td>1.000000</td>\n",
       "      <td>1.000000</td>\n",
       "      <td>52.489590</td>\n",
       "      <td>13.369115</td>\n",
       "      <td>2.000000</td>\n",
       "      <td>1.000000</td>\n",
       "      <td>1.000000</td>\n",
       "      <td>2.000000</td>\n",
       "      <td>23.000000</td>\n",
       "      <td>1.000000</td>\n",
       "      <td>2.000000</td>\n",
       "      <td>30.000000</td>\n",
       "      <td>3.000000e+01</td>\n",
       "      <td>2.000000</td>\n",
       "      <td>3.000000e+01</td>\n",
       "      <td>0.000000</td>\n",
       "      <td>0.000000</td>\n",
       "      <td>0.000000</td>\n",
       "      <td>0.000000</td>\n",
       "      <td>1.000000</td>\n",
       "      <td>0.000000</td>\n",
       "      <td>0.000000</td>\n",
       "      <td>93.000000</td>\n",
       "      <td>10.000000</td>\n",
       "      <td>9.000000</td>\n",
       "      <td>10.000000</td>\n",
       "      <td>10.000000</td>\n",
       "      <td>9.000000</td>\n",
       "      <td>9.000000</td>\n",
       "      <td>1.000000</td>\n",
       "      <td>0.000000</td>\n",
       "      <td>0.000000</td>\n",
       "      <td>0.000000</td>\n",
       "      <td>0.120000</td>\n",
       "    </tr>\n",
       "    <tr>\n",
       "      <th>50%</th>\n",
       "      <td>2.267455e+07</td>\n",
       "      <td>4.129505e+07</td>\n",
       "      <td>1.000000</td>\n",
       "      <td>1.000000</td>\n",
       "      <td>52.510130</td>\n",
       "      <td>13.414540</td>\n",
       "      <td>2.000000</td>\n",
       "      <td>1.000000</td>\n",
       "      <td>1.000000</td>\n",
       "      <td>3.000000</td>\n",
       "      <td>730.000000</td>\n",
       "      <td>3.000000</td>\n",
       "      <td>3.000000</td>\n",
       "      <td>1125.000000</td>\n",
       "      <td>1.125000e+03</td>\n",
       "      <td>3.000000</td>\n",
       "      <td>1.125000e+03</td>\n",
       "      <td>0.000000</td>\n",
       "      <td>0.000000</td>\n",
       "      <td>0.000000</td>\n",
       "      <td>0.000000</td>\n",
       "      <td>5.000000</td>\n",
       "      <td>0.000000</td>\n",
       "      <td>0.000000</td>\n",
       "      <td>97.000000</td>\n",
       "      <td>10.000000</td>\n",
       "      <td>10.000000</td>\n",
       "      <td>10.000000</td>\n",
       "      <td>10.000000</td>\n",
       "      <td>10.000000</td>\n",
       "      <td>10.000000</td>\n",
       "      <td>1.000000</td>\n",
       "      <td>1.000000</td>\n",
       "      <td>0.000000</td>\n",
       "      <td>0.000000</td>\n",
       "      <td>0.360000</td>\n",
       "    </tr>\n",
       "    <tr>\n",
       "      <th>75%</th>\n",
       "      <td>3.633792e+07</td>\n",
       "      <td>1.320462e+08</td>\n",
       "      <td>2.000000</td>\n",
       "      <td>2.000000</td>\n",
       "      <td>52.533000</td>\n",
       "      <td>13.439005</td>\n",
       "      <td>3.000000</td>\n",
       "      <td>1.000000</td>\n",
       "      <td>2.000000</td>\n",
       "      <td>4.000000</td>\n",
       "      <td>1125.000000</td>\n",
       "      <td>4.000000</td>\n",
       "      <td>5.000000</td>\n",
       "      <td>1125.000000</td>\n",
       "      <td>1.125000e+03</td>\n",
       "      <td>4.700000</td>\n",
       "      <td>1.125000e+03</td>\n",
       "      <td>14.000000</td>\n",
       "      <td>36.000000</td>\n",
       "      <td>57.000000</td>\n",
       "      <td>158.000000</td>\n",
       "      <td>20.000000</td>\n",
       "      <td>4.000000</td>\n",
       "      <td>0.000000</td>\n",
       "      <td>100.000000</td>\n",
       "      <td>10.000000</td>\n",
       "      <td>10.000000</td>\n",
       "      <td>10.000000</td>\n",
       "      <td>10.000000</td>\n",
       "      <td>10.000000</td>\n",
       "      <td>10.000000</td>\n",
       "      <td>2.000000</td>\n",
       "      <td>1.000000</td>\n",
       "      <td>1.000000</td>\n",
       "      <td>0.000000</td>\n",
       "      <td>1.010000</td>\n",
       "    </tr>\n",
       "    <tr>\n",
       "      <th>max</th>\n",
       "      <td>4.585497e+07</td>\n",
       "      <td>3.714961e+08</td>\n",
       "      <td>1130.000000</td>\n",
       "      <td>1130.000000</td>\n",
       "      <td>52.655980</td>\n",
       "      <td>13.757580</td>\n",
       "      <td>16.000000</td>\n",
       "      <td>50.000000</td>\n",
       "      <td>96.000000</td>\n",
       "      <td>1124.000000</td>\n",
       "      <td>9999.000000</td>\n",
       "      <td>1124.000000</td>\n",
       "      <td>1124.000000</td>\n",
       "      <td>9999.000000</td>\n",
       "      <td>2.147484e+09</td>\n",
       "      <td>1124.000000</td>\n",
       "      <td>2.137610e+09</td>\n",
       "      <td>30.000000</td>\n",
       "      <td>60.000000</td>\n",
       "      <td>90.000000</td>\n",
       "      <td>365.000000</td>\n",
       "      <td>568.000000</td>\n",
       "      <td>231.000000</td>\n",
       "      <td>44.000000</td>\n",
       "      <td>100.000000</td>\n",
       "      <td>10.000000</td>\n",
       "      <td>10.000000</td>\n",
       "      <td>10.000000</td>\n",
       "      <td>10.000000</td>\n",
       "      <td>10.000000</td>\n",
       "      <td>10.000000</td>\n",
       "      <td>67.000000</td>\n",
       "      <td>67.000000</td>\n",
       "      <td>20.000000</td>\n",
       "      <td>38.000000</td>\n",
       "      <td>20.630000</td>\n",
       "    </tr>\n",
       "  </tbody>\n",
       "</table>\n",
       "</div>"
      ],
      "text/plain": [
       "                 id       host_id  host_listings_count  \\\n",
       "count  2.022700e+04  2.022700e+04         20215.000000   \n",
       "mean   2.361542e+07  8.551713e+07             3.870047   \n",
       "std    1.372947e+07  9.821869e+07            28.348926   \n",
       "min    2.015000e+03  1.581000e+03             0.000000   \n",
       "25%    1.181564e+07  1.079583e+07             1.000000   \n",
       "50%    2.267455e+07  4.129505e+07             1.000000   \n",
       "75%    3.633792e+07  1.320462e+08             2.000000   \n",
       "max    4.585497e+07  3.714961e+08          1130.000000   \n",
       "\n",
       "       host_total_listings_count      latitude     longitude  accommodates  \\\n",
       "count               20215.000000  20227.000000  20227.000000  20227.000000   \n",
       "mean                    3.870047     52.510246     13.404865      2.741781   \n",
       "std                    28.348926      0.031903      0.062069      1.634844   \n",
       "min                     0.000000     52.340410     13.098390      0.000000   \n",
       "25%                     1.000000     52.489590     13.369115      2.000000   \n",
       "50%                     1.000000     52.510130     13.414540      2.000000   \n",
       "75%                     2.000000     52.533000     13.439005      3.000000   \n",
       "max                  1130.000000     52.655980     13.757580     16.000000   \n",
       "\n",
       "           bedrooms          beds  minimum_nights  maximum_nights  \\\n",
       "count  18542.000000  19975.000000    20227.000000    20227.000000   \n",
       "mean       1.275105      1.657822        7.990063      595.667227   \n",
       "std        0.770936      1.593302       30.525101      542.864669   \n",
       "min        1.000000      0.000000        1.000000        1.000000   \n",
       "25%        1.000000      1.000000        2.000000       23.000000   \n",
       "50%        1.000000      1.000000        3.000000      730.000000   \n",
       "75%        1.000000      2.000000        4.000000     1125.000000   \n",
       "max       50.000000     96.000000     1124.000000     9999.000000   \n",
       "\n",
       "       minimum_minimum_nights  maximum_minimum_nights  minimum_maximum_nights  \\\n",
       "count            20224.000000            20224.000000            20224.000000   \n",
       "mean                 7.802215                8.314676              703.659662   \n",
       "std                 30.110675               30.849713              556.742415   \n",
       "min                  1.000000                1.000000                1.000000   \n",
       "25%                  1.000000                2.000000               30.000000   \n",
       "50%                  3.000000                3.000000             1125.000000   \n",
       "75%                  4.000000                5.000000             1125.000000   \n",
       "max               1124.000000             1124.000000             9999.000000   \n",
       "\n",
       "       maximum_maximum_nights  minimum_nights_avg_ntm  maximum_nights_avg_ntm  \\\n",
       "count            2.022400e+04            20224.000000            2.022400e+04   \n",
       "mean             2.130797e+05                8.070372            2.120997e+05   \n",
       "std              2.135504e+07               30.277879            2.125686e+07   \n",
       "min              1.000000e+00                1.000000            1.000000e+00   \n",
       "25%              3.000000e+01                2.000000            3.000000e+01   \n",
       "50%              1.125000e+03                3.000000            1.125000e+03   \n",
       "75%              1.125000e+03                4.700000            1.125000e+03   \n",
       "max              2.147484e+09             1124.000000            2.137610e+09   \n",
       "\n",
       "       availability_30  availability_60  availability_90  availability_365  \\\n",
       "count     20227.000000     20227.000000     20227.000000      20227.000000   \n",
       "mean          6.900826        15.518663        25.023434         87.639294   \n",
       "std          11.061873        23.259738        34.938178        128.382964   \n",
       "min           0.000000         0.000000         0.000000          0.000000   \n",
       "25%           0.000000         0.000000         0.000000          0.000000   \n",
       "50%           0.000000         0.000000         0.000000          0.000000   \n",
       "75%          14.000000        36.000000        57.000000        158.000000   \n",
       "max          30.000000        60.000000        90.000000        365.000000   \n",
       "\n",
       "       number_of_reviews  number_of_reviews_ltm  number_of_reviews_l30d  \\\n",
       "count       20227.000000           20227.000000            20227.000000   \n",
       "mean           23.140258               4.503832                0.312701   \n",
       "std            48.747977              10.307596                1.083829   \n",
       "min             0.000000               0.000000                0.000000   \n",
       "25%             1.000000               0.000000                0.000000   \n",
       "50%             5.000000               0.000000                0.000000   \n",
       "75%            20.000000               4.000000                0.000000   \n",
       "max           568.000000             231.000000               44.000000   \n",
       "\n",
       "       review_scores_rating  review_scores_accuracy  \\\n",
       "count          16053.000000            16034.000000   \n",
       "mean              94.686165                9.680554   \n",
       "std                7.849939                0.774274   \n",
       "min               20.000000                2.000000   \n",
       "25%               93.000000               10.000000   \n",
       "50%               97.000000               10.000000   \n",
       "75%              100.000000               10.000000   \n",
       "max              100.000000               10.000000   \n",
       "\n",
       "       review_scores_cleanliness  review_scores_checkin  \\\n",
       "count               16035.000000           16021.000000   \n",
       "mean                    9.338759               9.741215   \n",
       "std                     1.036922               0.709446   \n",
       "min                     2.000000               2.000000   \n",
       "25%                     9.000000              10.000000   \n",
       "50%                    10.000000              10.000000   \n",
       "75%                    10.000000              10.000000   \n",
       "max                    10.000000              10.000000   \n",
       "\n",
       "       review_scores_communication  review_scores_location  \\\n",
       "count                 16032.000000            16023.000000   \n",
       "mean                      9.745010                9.619110   \n",
       "std                       0.712997                0.734445   \n",
       "min                       2.000000                2.000000   \n",
       "25%                      10.000000                9.000000   \n",
       "50%                      10.000000               10.000000   \n",
       "75%                      10.000000               10.000000   \n",
       "max                      10.000000               10.000000   \n",
       "\n",
       "       review_scores_value  calculated_host_listings_count  \\\n",
       "count         16020.000000                    20227.000000   \n",
       "mean              9.407928                        2.823108   \n",
       "std               0.865050                        6.521288   \n",
       "min               2.000000                        1.000000   \n",
       "25%               9.000000                        1.000000   \n",
       "50%              10.000000                        1.000000   \n",
       "75%              10.000000                        2.000000   \n",
       "max              10.000000                       67.000000   \n",
       "\n",
       "       calculated_host_listings_count_entire_homes  \\\n",
       "count                                 20227.000000   \n",
       "mean                                      1.818362   \n",
       "std                                       5.800622   \n",
       "min                                       0.000000   \n",
       "25%                                       0.000000   \n",
       "50%                                       1.000000   \n",
       "75%                                       1.000000   \n",
       "max                                      67.000000   \n",
       "\n",
       "       calculated_host_listings_count_private_rooms  \\\n",
       "count                                  20227.000000   \n",
       "mean                                       0.724428   \n",
       "std                                        1.435346   \n",
       "min                                        0.000000   \n",
       "25%                                        0.000000   \n",
       "50%                                        0.000000   \n",
       "75%                                        1.000000   \n",
       "max                                       20.000000   \n",
       "\n",
       "       calculated_host_listings_count_shared_rooms  reviews_per_month  \n",
       "count                                 20227.000000       16460.000000  \n",
       "mean                                      0.175706           0.843584  \n",
       "std                                       2.207266           1.218423  \n",
       "min                                       0.000000           0.010000  \n",
       "25%                                       0.000000           0.120000  \n",
       "50%                                       0.000000           0.360000  \n",
       "75%                                       0.000000           1.010000  \n",
       "max                                      38.000000          20.630000  "
      ]
     },
     "execution_count": 7,
     "metadata": {},
     "output_type": "execute_result"
    }
   ],
   "source": [
    "df.describe()"
   ]
  },
  {
   "cell_type": "markdown",
   "metadata": {},
   "source": [
    "### Currency --> convert String to float"
   ]
  },
  {
   "cell_type": "code",
   "execution_count": 8,
   "metadata": {},
   "outputs": [
    {
     "data": {
      "text/plain": [
       "6663      $35.00\n",
       "130      $119.00\n",
       "15282     $70.00\n",
       "10168     $35.00\n",
       "4672      $30.00\n",
       "Name: price, dtype: object"
      ]
     },
     "execution_count": 8,
     "metadata": {},
     "output_type": "execute_result"
    }
   ],
   "source": [
    "df[\"price\"].sample(5)"
   ]
  },
  {
   "cell_type": "code",
   "execution_count": 9,
   "metadata": {},
   "outputs": [
    {
     "data": {
      "text/plain": [
       "3319     45.0\n",
       "6017     32.0\n",
       "8362     20.0\n",
       "7904     43.0\n",
       "19966    79.0\n",
       "Name: price, dtype: float64"
      ]
     },
     "execution_count": 9,
     "metadata": {},
     "output_type": "execute_result"
    }
   ],
   "source": [
    "# price_s2f removes all non numeric strings from paand turns remainder into float\n",
    "price_s2f(df, [\"price\"])\n",
    "df[\"price\"].sample(5)"
   ]
  },
  {
   "cell_type": "markdown",
   "metadata": {},
   "source": [
    "### Handle missing values"
   ]
  },
  {
   "cell_type": "code",
   "execution_count": 10,
   "metadata": {
    "scrolled": true
   },
   "outputs": [
    {
     "name": "stdout",
     "output_type": "stream",
     "text": [
      "<class 'pandas.core.frame.DataFrame'>\n",
      "RangeIndex: 20227 entries, 0 to 20226\n",
      "Data columns (total 58 columns):\n",
      " #   Column                                        Non-Null Count  Dtype         \n",
      "---  ------                                        --------------  -----         \n",
      " 0   id                                            20227 non-null  int64         \n",
      " 1   last_scraped                                  20227 non-null  datetime64[ns]\n",
      " 2   host_id                                       20227 non-null  int64         \n",
      " 3   host_since                                    20215 non-null  datetime64[ns]\n",
      " 4   host_response_time                            10054 non-null  object        \n",
      " 5   host_response_rate                            10054 non-null  object        \n",
      " 6   host_acceptance_rate                          13053 non-null  object        \n",
      " 7   host_is_superhost                             20215 non-null  object        \n",
      " 8   host_neighbourhood                            14547 non-null  object        \n",
      " 9   host_listings_count                           20215 non-null  float64       \n",
      " 10  host_total_listings_count                     20215 non-null  float64       \n",
      " 11  host_verifications                            20227 non-null  object        \n",
      " 12  host_has_profile_pic                          20215 non-null  object        \n",
      " 13  host_identity_verified                        20215 non-null  object        \n",
      " 14  neighbourhood                                 11055 non-null  object        \n",
      " 15  neighbourhood_cleansed                        20227 non-null  object        \n",
      " 16  neighbourhood_group_cleansed                  20227 non-null  object        \n",
      " 17  latitude                                      20227 non-null  float64       \n",
      " 18  longitude                                     20227 non-null  float64       \n",
      " 19  property_type                                 20227 non-null  object        \n",
      " 20  room_type                                     20227 non-null  object        \n",
      " 21  accommodates                                  20227 non-null  int64         \n",
      " 22  bedrooms                                      18542 non-null  float64       \n",
      " 23  beds                                          19975 non-null  float64       \n",
      " 24  amenities                                     20227 non-null  object        \n",
      " 25  price                                         20227 non-null  float64       \n",
      " 26  minimum_nights                                20227 non-null  int64         \n",
      " 27  maximum_nights                                20227 non-null  int64         \n",
      " 28  minimum_minimum_nights                        20224 non-null  float64       \n",
      " 29  maximum_minimum_nights                        20224 non-null  float64       \n",
      " 30  minimum_maximum_nights                        20224 non-null  float64       \n",
      " 31  maximum_maximum_nights                        20224 non-null  float64       \n",
      " 32  minimum_nights_avg_ntm                        20224 non-null  float64       \n",
      " 33  maximum_nights_avg_ntm                        20224 non-null  float64       \n",
      " 34  has_availability                              20227 non-null  object        \n",
      " 35  availability_30                               20227 non-null  int64         \n",
      " 36  availability_60                               20227 non-null  int64         \n",
      " 37  availability_90                               20227 non-null  int64         \n",
      " 38  availability_365                              20227 non-null  int64         \n",
      " 39  number_of_reviews                             20227 non-null  int64         \n",
      " 40  number_of_reviews_ltm                         20227 non-null  int64         \n",
      " 41  number_of_reviews_l30d                        20227 non-null  int64         \n",
      " 42  first_review                                  16460 non-null  datetime64[ns]\n",
      " 43  last_review                                   16460 non-null  datetime64[ns]\n",
      " 44  review_scores_rating                          16053 non-null  float64       \n",
      " 45  review_scores_accuracy                        16034 non-null  float64       \n",
      " 46  review_scores_cleanliness                     16035 non-null  float64       \n",
      " 47  review_scores_checkin                         16021 non-null  float64       \n",
      " 48  review_scores_communication                   16032 non-null  float64       \n",
      " 49  review_scores_location                        16023 non-null  float64       \n",
      " 50  review_scores_value                           16020 non-null  float64       \n",
      " 51  license                                       2409 non-null   object        \n",
      " 52  instant_bookable                              20227 non-null  object        \n",
      " 53  calculated_host_listings_count                20227 non-null  int64         \n",
      " 54  calculated_host_listings_count_entire_homes   20227 non-null  int64         \n",
      " 55  calculated_host_listings_count_private_rooms  20227 non-null  int64         \n",
      " 56  calculated_host_listings_count_shared_rooms   20227 non-null  int64         \n",
      " 57  reviews_per_month                             16460 non-null  float64       \n",
      "dtypes: datetime64[ns](4), float64(21), int64(16), object(17)\n",
      "memory usage: 9.0+ MB\n"
     ]
    }
   ],
   "source": [
    "df.info()"
   ]
  },
  {
   "cell_type": "code",
   "execution_count": 11,
   "metadata": {},
   "outputs": [
    {
     "data": {
      "text/plain": [
       "Index(['host_response_time', 'host_response_rate', 'license'], dtype='object')"
      ]
     },
     "execution_count": 11,
     "metadata": {},
     "output_type": "execute_result"
    }
   ],
   "source": [
    "df.columns[df.isna().sum()/df.shape[0] > 0.50]"
   ]
  },
  {
   "cell_type": "code",
   "execution_count": 12,
   "metadata": {},
   "outputs": [],
   "source": [
    "# The columns 'host_response_time', 'host_response_rate', 'license' have more than 50% of missing values\n",
    "# As they do not seem to be relevant for our business questions, we'll drop them:\n",
    "df = df.drop(['host_response_time', 'host_response_rate', 'license'], axis=1)"
   ]
  },
  {
   "cell_type": "markdown",
   "metadata": {},
   "source": [
    "### Convert ft_boolean to 01_boolean "
   ]
  },
  {
   "cell_type": "code",
   "execution_count": 13,
   "metadata": {},
   "outputs": [],
   "source": [
    "#For ease of analysis we convert the\n",
    "#column 'host_is_superhost' from str_boolean to binary_boolean using the function created up top:\n",
    "ftBool_2_intBoolean(df, 'host_is_superhost')"
   ]
  },
  {
   "cell_type": "markdown",
   "metadata": {},
   "source": [
    "### Availability of listings\n",
    "#### Considering the business questions, we are only interested in listings with high availability \n",
    "\n"
   ]
  },
  {
   "cell_type": "code",
   "execution_count": 14,
   "metadata": {
    "scrolled": true
   },
   "outputs": [
    {
     "data": {
      "text/plain": [
       "count    20227.000000\n",
       "mean        87.639294\n",
       "std        128.382964\n",
       "min          0.000000\n",
       "25%          0.000000\n",
       "50%          0.000000\n",
       "75%        158.000000\n",
       "max        365.000000\n",
       "Name: availability_365, dtype: float64"
      ]
     },
     "execution_count": 14,
     "metadata": {},
     "output_type": "execute_result"
    }
   ],
   "source": [
    "df.availability_365.describe()"
   ]
  },
  {
   "cell_type": "code",
   "execution_count": 15,
   "metadata": {
    "scrolled": true
   },
   "outputs": [
    {
     "data": {
      "text/plain": [
       "4125"
      ]
     },
     "execution_count": 15,
     "metadata": {},
     "output_type": "execute_result"
    }
   ],
   "source": [
    "#Let's check if the database is big enough for listings with \"high\" availability:\n",
    "\n",
    "(df.availability_365 >200).sum()"
   ]
  },
  {
   "cell_type": "markdown",
   "metadata": {},
   "source": [
    "##### Insight: 4k rows for listings with >200 days/year seems ok for a first estimate. Let's keep all the data for now to be more flexible during analysis"
   ]
  },
  {
   "cell_type": "markdown",
   "metadata": {},
   "source": [
    "### Number of reviews\n",
    " #### To make sure we are only considering active hosts we will filter for those with at least one review:"
   ]
  },
  {
   "cell_type": "code",
   "execution_count": 16,
   "metadata": {
    "scrolled": false
   },
   "outputs": [
    {
     "data": {
      "text/plain": [
       "count    16460.000000\n",
       "mean         0.843584\n",
       "std          1.218423\n",
       "min          0.010000\n",
       "25%          0.120000\n",
       "50%          0.360000\n",
       "75%          1.010000\n",
       "max         20.630000\n",
       "Name: reviews_per_month, dtype: float64"
      ]
     },
     "execution_count": 16,
     "metadata": {},
     "output_type": "execute_result"
    }
   ],
   "source": [
    "df.loc[(df.number_of_reviews > 0)]['reviews_per_month'].describe()"
   ]
  },
  {
   "cell_type": "code",
   "execution_count": 17,
   "metadata": {},
   "outputs": [],
   "source": [
    "#We'll consider listings with no reviews as \"dead\" listings \n",
    "#or very new listings. Thus we will drop them:\n",
    "\n",
    "df = df.loc[(df.number_of_reviews > 0)]"
   ]
  },
  {
   "cell_type": "markdown",
   "metadata": {},
   "source": [
    "### Property type"
   ]
  },
  {
   "cell_type": "code",
   "execution_count": 18,
   "metadata": {},
   "outputs": [
    {
     "data": {
      "text/plain": [
       "Entire apartment             7890\n",
       "Private room in apartment    6384\n",
       "Entire loft                   320\n",
       "Entire condominium            265\n",
       "Entire serviced apartment     205\n",
       "                             ... \n",
       "Castle                          1\n",
       "Shared room in boat             1\n",
       "Private room in cottage         1\n",
       "Treehouse                       1\n",
       "Private room in tipi            1\n",
       "Name: property_type, Length: 61, dtype: int64"
      ]
     },
     "execution_count": 18,
     "metadata": {},
     "output_type": "execute_result"
    }
   ],
   "source": [
    "#turns out \"porperty_type\" is too detailed for us:\n",
    "df.property_type.value_counts()"
   ]
  },
  {
   "cell_type": "code",
   "execution_count": 19,
   "metadata": {},
   "outputs": [
    {
     "data": {
      "text/plain": [
       "Entire home/apt    9002\n",
       "Private room       7079\n",
       "Shared room         213\n",
       "Hotel room          166\n",
       "Name: room_type, dtype: int64"
      ]
     },
     "execution_count": 19,
     "metadata": {},
     "output_type": "execute_result"
    }
   ],
   "source": [
    "# however \"room_type\" has just the granularity we need: \n",
    "df.room_type.value_counts()"
   ]
  },
  {
   "cell_type": "code",
   "execution_count": 20,
   "metadata": {},
   "outputs": [],
   "source": [
    "# lets keep it simple and only estimate revenue for Entire home/apt to also get a \"fair\" comparison:\n",
    "df = df.loc[(df.room_type == \"Entire home/apt\")]# | (df.room_type == \"Private room\")]"
   ]
  },
  {
   "cell_type": "markdown",
   "metadata": {},
   "source": [
    "### Neighbourhoods\n",
    "After a quick check it turns out that \"neighbourhood_group_cleansed\" carries the granularity best suited for our case. Sample size of highly available listings is still ok for all neighbourhoods, smallest being Marzahn - Hellersdorf:"
   ]
  },
  {
   "cell_type": "code",
   "execution_count": 21,
   "metadata": {
    "scrolled": true
   },
   "outputs": [
    {
     "data": {
      "text/plain": [
       "Mitte                       393\n",
       "Friedrichshain-Kreuzberg    255\n",
       "Pankow                      251\n",
       "Charlottenburg-Wilm.        126\n",
       "Neukölln                    114\n",
       "Tempelhof - Schöneberg      108\n",
       "Treptow - Köpenick           53\n",
       "Steglitz - Zehlendorf        38\n",
       "Lichtenberg                  32\n",
       "Spandau                      22\n",
       "Marzahn - Hellersdorf        18\n",
       "Reinickendorf                13\n",
       "Name: neighbourhood_group_cleansed, dtype: int64"
      ]
     },
     "execution_count": 21,
     "metadata": {},
     "output_type": "execute_result"
    }
   ],
   "source": [
    "df.loc[(df.availability_365 > 300)]['neighbourhood_group_cleansed'].value_counts()"
   ]
  },
  {
   "cell_type": "code",
   "execution_count": 22,
   "metadata": {},
   "outputs": [
    {
     "data": {
      "text/plain": [
       "Charlottenburg-Wilm.        0.176\n",
       "Friedrichshain-Kreuzberg    0.129\n",
       "Lichtenberg                 0.136\n",
       "Marzahn - Hellersdorf       0.295\n",
       "Mitte                       0.197\n",
       "Neukölln                    0.103\n",
       "Pankow                      0.149\n",
       "Reinickendorf               0.124\n",
       "Spandau                     0.324\n",
       "Steglitz - Zehlendorf       0.236\n",
       "Tempelhof - Schöneberg      0.178\n",
       "Treptow - Köpenick          0.182\n",
       "Name: neighbourhood_group_cleansed, dtype: float64"
      ]
     },
     "execution_count": 22,
     "metadata": {},
     "output_type": "execute_result"
    }
   ],
   "source": [
    "#Let's check how many % of listings have over 200 nights/year availability and \n",
    "#are thus mainly used to generate additional income:\n",
    "((df.loc[(df.availability_365 > 300)]['neighbourhood_group_cleansed'].value_counts())/df.neighbourhood_group_cleansed.value_counts()).round(3)"
   ]
  },
  {
   "cell_type": "code",
   "execution_count": 23,
   "metadata": {},
   "outputs": [
    {
     "name": "stderr",
     "output_type": "stream",
     "text": [
      "C:\\ProgramData\\Anaconda3\\envs\\geo_env\\lib\\site-packages\\seaborn\\categorical.py:1296: UserWarning: 9.8% of the points cannot be placed; you may want to decrease the size of the markers or use stripplot.\n",
      "  warnings.warn(msg, UserWarning)\n"
     ]
    },
    {
     "data": {
      "text/plain": [
       "<AxesSubplot:xlabel='room_type', ylabel='price'>"
      ]
     },
     "execution_count": 23,
     "metadata": {},
     "output_type": "execute_result"
    },
    {
     "data": {
      "text/plain": [
       "<AxesSubplot:xlabel='room_type', ylabel='price'>"
      ]
     },
     "execution_count": 23,
     "metadata": {},
     "output_type": "execute_result"
    },
    {
     "data": {
      "image/png": "[encoded data removed]",
      "text/plain": [
       "<Figure size 1080x360 with 2 Axes>"
      ]
     },
     "metadata": {
      "needs_background": "light"
     },
     "output_type": "display_data"
    }
   ],
   "source": [
    "fig, (ax1, ax2) = plt.subplots(ncols=2, figsize=(15,5))\n",
    "ax = fig.gca()\n",
    "sns.swarmplot(data=df, x=df.loc[\n",
    "    (df.availability_365 > 364)][\"room_type\"], y=df.loc[\n",
    "    (df.availability_365 > 364)]['price'], hue= df.loc[\n",
    "    (df.availability_365 > 364)]['neighbourhood_group_cleansed'], ax=ax1)\n",
    "ax = fig.gca()\n",
    "sns.violinplot(data=df, x=\"room_type\", y=\"price\", hue=\"neighbourhood_group_cleansed\", ax=ax2)"
   ]
  },
  {
   "cell_type": "markdown",
   "metadata": {},
   "source": [
    "### Removing price outliers:\n",
    "\n",
    "##### As seen in the plots above, some listings have very steep pricings / night. They might distort our statistical analysis. Thus, we will drop the outliers:"
   ]
  },
  {
   "cell_type": "code",
   "execution_count": 24,
   "metadata": {
    "scrolled": true
   },
   "outputs": [
    {
     "data": {
      "text/plain": [
       "<AxesSubplot:xlabel='price'>"
      ]
     },
     "execution_count": 24,
     "metadata": {},
     "output_type": "execute_result"
    },
    {
     "data": {
      "image/png": "[encoded data removed]",
      "text/plain": [
       "<Figure size 1080x360 with 1 Axes>"
      ]
     },
     "metadata": {
      "needs_background": "light"
     },
     "output_type": "display_data"
    }
   ],
   "source": [
    "fig, ax = plt.subplots(figsize=(15,5))\n",
    "sns.boxplot(x = df.price)"
   ]
  },
  {
   "cell_type": "code",
   "execution_count": 25,
   "metadata": {
    "scrolled": true
   },
   "outputs": [
    {
     "data": {
      "text/plain": [
       "<seaborn.axisgrid.FacetGrid at 0x263ad357af0>"
      ]
     },
     "execution_count": 25,
     "metadata": {},
     "output_type": "execute_result"
    },
    {
     "data": {
      "image/png": "[encoded data removed]",
      "text/plain": [
       "<Figure size 864x288 with 1 Axes>"
      ]
     },
     "metadata": {
      "needs_background": "light"
     },
     "output_type": "display_data"
    }
   ],
   "source": [
    "sns.displot(df.price, kde=True, height=4,aspect=3)"
   ]
  },
  {
   "cell_type": "code",
   "execution_count": 26,
   "metadata": {},
   "outputs": [
    {
     "name": "stdout",
     "output_type": "stream",
     "text": [
      "The Percentage of outliers over 400$ is 0.61%\n"
     ]
    }
   ],
   "source": [
    "print(\"The Percentage of outliers over 400$ is {0:.2f}%\".format(df[df.price > 400].id.count() / len(df) * 100))"
   ]
  },
  {
   "cell_type": "code",
   "execution_count": 27,
   "metadata": {},
   "outputs": [],
   "source": [
    "#Let's drop the outliers that cost more than 400$ per night:\n",
    "df = df[(df.price < 400)]"
   ]
  },
  {
   "cell_type": "markdown",
   "metadata": {},
   "source": [
    "## Now we'll use the given columns to derive some more insights that might turn out to be useful during our analysis:"
   ]
  },
  {
   "cell_type": "markdown",
   "metadata": {},
   "source": [
    "### Derive Columns: \n",
    "-**host_4_Xdays**:`Answers: How long has the host been around on the day of scraping the data? <br>\n",
    "-**Review_timespan**: Answers: How many days past between first and last review?"
   ]
  },
  {
   "cell_type": "code",
   "execution_count": 28,
   "metadata": {},
   "outputs": [
    {
     "data": {
      "text/plain": [
       "3"
      ]
     },
     "execution_count": 28,
     "metadata": {},
     "output_type": "execute_result"
    }
   ],
   "source": [
    "#Turns out we have some hosts in the dataset without a \"host since\" date. Its only 7, so let's drop them:\n",
    "df.host_since.isna().sum()\n",
    "df = df[~df.host_since.isna()]"
   ]
  },
  {
   "cell_type": "code",
   "execution_count": 29,
   "metadata": {
    "scrolled": true
   },
   "outputs": [
    {
     "data": {
      "text/plain": [
       "0    4447\n",
       "1    4384\n",
       "4    4074\n",
       "5    3990\n",
       "6    3954\n",
       "Name: host_4_Xdays, dtype: int64"
      ]
     },
     "execution_count": 29,
     "metadata": {},
     "output_type": "execute_result"
    }
   ],
   "source": [
    "df[\"host_4_Xdays\"] = (df.last_scraped - df.host_since).dt.days\n",
    "df[\"host_4_Xdays\"].head()"
   ]
  },
  {
   "cell_type": "code",
   "execution_count": 30,
   "metadata": {},
   "outputs": [
    {
     "data": {
      "text/plain": [
       "0    1629\n",
       "1    3994\n",
       "4    1609\n",
       "5    3595\n",
       "6    2750\n",
       "Name: review_timespan, dtype: int64"
      ]
     },
     "execution_count": 30,
     "metadata": {},
     "output_type": "execute_result"
    }
   ],
   "source": [
    "df[\"review_timespan\"] = (df.last_review - df.first_review).dt.days\n",
    "df[\"review_timespan\"].head()"
   ]
  },
  {
   "cell_type": "markdown",
   "metadata": {},
   "source": [
    "### Write listings to file:"
   ]
  },
  {
   "cell_type": "code",
   "execution_count": 31,
   "metadata": {},
   "outputs": [],
   "source": [
    "df.to_csv('listings_processed.csv', index=False)"
   ]
  },
  {
   "cell_type": "markdown",
   "metadata": {},
   "source": [
    "# Checking out: Calendar Data"
   ]
  },
  {
   "cell_type": "code",
   "execution_count": 32,
   "metadata": {},
   "outputs": [
    {
     "data": {
      "text/plain": [
       "Index(['listing_id', 'date', 'available', 'price', 'adjusted_price',\n",
       "       'minimum_nights', 'maximum_nights'],\n",
       "      dtype='object')"
      ]
     },
     "execution_count": 32,
     "metadata": {},
     "output_type": "execute_result"
    }
   ],
   "source": [
    "Calendar_df = pd.read_csv('calendar.csv')\n",
    "Calendar_df.columns"
   ]
  },
  {
   "cell_type": "code",
   "execution_count": 33,
   "metadata": {
    "scrolled": true
   },
   "outputs": [],
   "source": [
    "#For ease of analysis we convert the\n",
    "#columns \"available\" from str_boolean to binary_boolean using the function created up top:\n",
    "ftBool_2_intBoolean(Calendar_df, 'available')"
   ]
  },
  {
   "cell_type": "code",
   "execution_count": 34,
   "metadata": {
    "scrolled": true
   },
   "outputs": [
    {
     "name": "stdout",
     "output_type": "stream",
     "text": [
      "There are 3 listings without a price.\n"
     ]
    }
   ],
   "source": [
    "#There are 3 listings without a price. As no price seems unreasonable we will drop them:\n",
    "print(\"There are {} listings without a price.\".format(Calendar_df[(Calendar_df[\"price\"].isna() == True)].listing_id.nunique()))\n",
    "\n",
    "Calendar_df = Calendar_df[(Calendar_df[\"price\"].isna() == False)]"
   ]
  },
  {
   "cell_type": "code",
   "execution_count": 35,
   "metadata": {
    "scrolled": false
   },
   "outputs": [
    {
     "data": {
      "text/html": [
       "<div>\n",
       "<style scoped>\n",
       "    .dataframe tbody tr th:only-of-type {\n",
       "        vertical-align: middle;\n",
       "    }\n",
       "\n",
       "    .dataframe tbody tr th {\n",
       "        vertical-align: top;\n",
       "    }\n",
       "\n",
       "    .dataframe thead th {\n",
       "        text-align: right;\n",
       "    }\n",
       "</style>\n",
       "<table border=\"1\" class=\"dataframe\">\n",
       "  <thead>\n",
       "    <tr style=\"text-align: right;\">\n",
       "      <th></th>\n",
       "      <th>listing_id</th>\n",
       "      <th>date</th>\n",
       "      <th>available</th>\n",
       "      <th>price</th>\n",
       "      <th>adjusted_price</th>\n",
       "      <th>minimum_nights</th>\n",
       "      <th>maximum_nights</th>\n",
       "    </tr>\n",
       "  </thead>\n",
       "  <tbody>\n",
       "    <tr>\n",
       "      <th>6827855</th>\n",
       "      <td>43540608</td>\n",
       "      <td>2020-12-12</td>\n",
       "      <td>0</td>\n",
       "      <td>59.0</td>\n",
       "      <td>59.0</td>\n",
       "      <td>3.0</td>\n",
       "      <td>1125.0</td>\n",
       "    </tr>\n",
       "    <tr>\n",
       "      <th>6836806</th>\n",
       "      <td>43549529</td>\n",
       "      <td>2021-06-12</td>\n",
       "      <td>1</td>\n",
       "      <td>65.0</td>\n",
       "      <td>65.0</td>\n",
       "      <td>30.0</td>\n",
       "      <td>1125.0</td>\n",
       "    </tr>\n",
       "    <tr>\n",
       "      <th>2080341</th>\n",
       "      <td>13681045</td>\n",
       "      <td>2021-06-01</td>\n",
       "      <td>0</td>\n",
       "      <td>58.0</td>\n",
       "      <td>58.0</td>\n",
       "      <td>3.0</td>\n",
       "      <td>1125.0</td>\n",
       "    </tr>\n",
       "    <tr>\n",
       "      <th>3659033</th>\n",
       "      <td>22565449</td>\n",
       "      <td>2021-04-09</td>\n",
       "      <td>0</td>\n",
       "      <td>75.0</td>\n",
       "      <td>75.0</td>\n",
       "      <td>2.0</td>\n",
       "      <td>31.0</td>\n",
       "    </tr>\n",
       "    <tr>\n",
       "      <th>2512535</th>\n",
       "      <td>16701311</td>\n",
       "      <td>2021-08-19</td>\n",
       "      <td>1</td>\n",
       "      <td>40.0</td>\n",
       "      <td>40.0</td>\n",
       "      <td>1.0</td>\n",
       "      <td>7.0</td>\n",
       "    </tr>\n",
       "  </tbody>\n",
       "</table>\n",
       "</div>"
      ],
      "text/plain": [
       "         listing_id        date  available  price  adjusted_price  \\\n",
       "6827855    43540608  2020-12-12          0   59.0            59.0   \n",
       "6836806    43549529  2021-06-12          1   65.0            65.0   \n",
       "2080341    13681045  2021-06-01          0   58.0            58.0   \n",
       "3659033    22565449  2021-04-09          0   75.0            75.0   \n",
       "2512535    16701311  2021-08-19          1   40.0            40.0   \n",
       "\n",
       "         minimum_nights  maximum_nights  \n",
       "6827855             3.0          1125.0  \n",
       "6836806            30.0          1125.0  \n",
       "2080341             3.0          1125.0  \n",
       "3659033             2.0            31.0  \n",
       "2512535             1.0             7.0  "
      ]
     },
     "execution_count": 35,
     "metadata": {},
     "output_type": "execute_result"
    }
   ],
   "source": [
    "#Cleaning price columns:\n",
    "price_s2f(Calendar_df, [\"price\", \"adjusted_price\"])\n",
    "Calendar_df.sample(5)"
   ]
  },
  {
   "cell_type": "markdown",
   "metadata": {},
   "source": [
    "## Let's derive some new columns from our Calendar Data:"
   ]
  },
  {
   "cell_type": "markdown",
   "metadata": {},
   "source": [
    "### Availability\n",
    "\n",
    "#### It might be useful to assign each listing_id the amount of days it's available. We might be able to use it to estimate a listings revenue:"
   ]
  },
  {
   "cell_type": "code",
   "execution_count": 36,
   "metadata": {},
   "outputs": [
    {
     "data": {
      "text/plain": [
       "'2020-10-13'"
      ]
     },
     "execution_count": 36,
     "metadata": {},
     "output_type": "execute_result"
    },
    {
     "data": {
      "text/plain": [
       "'2021-10-23'"
      ]
     },
     "execution_count": 36,
     "metadata": {},
     "output_type": "execute_result"
    }
   ],
   "source": [
    "#We can see here that the Calander Data is only showing FUTURE availability for listing.\n",
    "#It might still be useful for us to predict future earnings of those listings with very high availability.\n",
    "Calendar_df.date.min()\n",
    "Calendar_df.date.max()"
   ]
  },
  {
   "cell_type": "code",
   "execution_count": 37,
   "metadata": {
    "scrolled": false
   },
   "outputs": [
    {
     "data": {
      "text/html": [
       "<div>\n",
       "<style scoped>\n",
       "    .dataframe tbody tr th:only-of-type {\n",
       "        vertical-align: middle;\n",
       "    }\n",
       "\n",
       "    .dataframe tbody tr th {\n",
       "        vertical-align: top;\n",
       "    }\n",
       "\n",
       "    .dataframe thead th {\n",
       "        text-align: right;\n",
       "    }\n",
       "</style>\n",
       "<table border=\"1\" class=\"dataframe\">\n",
       "  <thead>\n",
       "    <tr style=\"text-align: right;\">\n",
       "      <th></th>\n",
       "      <th>listing_id</th>\n",
       "      <th>available</th>\n",
       "    </tr>\n",
       "  </thead>\n",
       "  <tbody>\n",
       "    <tr>\n",
       "      <th>9557</th>\n",
       "      <td>21627714</td>\n",
       "      <td>182</td>\n",
       "    </tr>\n",
       "    <tr>\n",
       "      <th>16954</th>\n",
       "      <td>40320470</td>\n",
       "      <td>185</td>\n",
       "    </tr>\n",
       "  </tbody>\n",
       "</table>\n",
       "</div>"
      ],
      "text/plain": [
       "       listing_id  available\n",
       "9557     21627714        182\n",
       "16954    40320470        185"
      ]
     },
     "execution_count": 37,
     "metadata": {},
     "output_type": "execute_result"
    },
    {
     "data": {
      "text/html": [
       "<div>\n",
       "<style scoped>\n",
       "    .dataframe tbody tr th:only-of-type {\n",
       "        vertical-align: middle;\n",
       "    }\n",
       "\n",
       "    .dataframe tbody tr th {\n",
       "        vertical-align: top;\n",
       "    }\n",
       "\n",
       "    .dataframe thead th {\n",
       "        text-align: right;\n",
       "    }\n",
       "</style>\n",
       "<table border=\"1\" class=\"dataframe\">\n",
       "  <thead>\n",
       "    <tr style=\"text-align: right;\">\n",
       "      <th></th>\n",
       "      <th>listing_id</th>\n",
       "      <th>available</th>\n",
       "    </tr>\n",
       "  </thead>\n",
       "  <tbody>\n",
       "    <tr>\n",
       "      <th>0</th>\n",
       "      <td>2015</td>\n",
       "      <td>365</td>\n",
       "    </tr>\n",
       "    <tr>\n",
       "      <th>1</th>\n",
       "      <td>3176</td>\n",
       "      <td>365</td>\n",
       "    </tr>\n",
       "    <tr>\n",
       "      <th>2</th>\n",
       "      <td>3309</td>\n",
       "      <td>365</td>\n",
       "    </tr>\n",
       "    <tr>\n",
       "      <th>3</th>\n",
       "      <td>7071</td>\n",
       "      <td>365</td>\n",
       "    </tr>\n",
       "    <tr>\n",
       "      <th>4</th>\n",
       "      <td>9991</td>\n",
       "      <td>365</td>\n",
       "    </tr>\n",
       "    <tr>\n",
       "      <th>...</th>\n",
       "      <td>...</td>\n",
       "      <td>...</td>\n",
       "    </tr>\n",
       "    <tr>\n",
       "      <th>20219</th>\n",
       "      <td>45845921</td>\n",
       "      <td>365</td>\n",
       "    </tr>\n",
       "    <tr>\n",
       "      <th>20220</th>\n",
       "      <td>45847669</td>\n",
       "      <td>365</td>\n",
       "    </tr>\n",
       "    <tr>\n",
       "      <th>20221</th>\n",
       "      <td>45851885</td>\n",
       "      <td>365</td>\n",
       "    </tr>\n",
       "    <tr>\n",
       "      <th>20222</th>\n",
       "      <td>45854853</td>\n",
       "      <td>365</td>\n",
       "    </tr>\n",
       "    <tr>\n",
       "      <th>20223</th>\n",
       "      <td>45854967</td>\n",
       "      <td>365</td>\n",
       "    </tr>\n",
       "  </tbody>\n",
       "</table>\n",
       "<p>20222 rows × 2 columns</p>\n",
       "</div>"
      ],
      "text/plain": [
       "       listing_id  available\n",
       "0            2015        365\n",
       "1            3176        365\n",
       "2            3309        365\n",
       "3            7071        365\n",
       "4            9991        365\n",
       "...           ...        ...\n",
       "20219    45845921        365\n",
       "20220    45847669        365\n",
       "20221    45851885        365\n",
       "20222    45854853        365\n",
       "20223    45854967        365\n",
       "\n",
       "[20222 rows x 2 columns]"
      ]
     },
     "execution_count": 37,
     "metadata": {},
     "output_type": "execute_result"
    },
    {
     "data": {
      "text/plain": [
       "367"
      ]
     },
     "execution_count": 37,
     "metadata": {},
     "output_type": "execute_result"
    },
    {
     "data": {
      "text/plain": [
       "0"
      ]
     },
     "execution_count": 37,
     "metadata": {},
     "output_type": "execute_result"
    }
   ],
   "source": [
    "#The Calendar Data of each listing was scraped for approx. 1 year. 2 listings fall out of line with ~180 datapoints. \n",
    "temp = Calendar_df.groupby(['listing_id'])['available'].count().reset_index()\n",
    "\n",
    "temp.loc[temp.available <365]\n",
    "temp.loc[temp.available >=365]\n",
    "temp.available.max()\n",
    "\n",
    "#We'll drop them as they have no days available in the future --> most likely inactive.\n",
    "Calendar_df.loc[(Calendar_df.listing_id == 21627714) & (Calendar_df.listing_id == 40320470)]['available'].sum()\n",
    "Calendar_df = Calendar_df.loc[(Calendar_df.listing_id != 21627714) & (Calendar_df.listing_id != 40320470)]"
   ]
  },
  {
   "cell_type": "code",
   "execution_count": 38,
   "metadata": {
    "scrolled": true
   },
   "outputs": [
    {
     "data": {
      "text/html": [
       "<div>\n",
       "<style scoped>\n",
       "    .dataframe tbody tr th:only-of-type {\n",
       "        vertical-align: middle;\n",
       "    }\n",
       "\n",
       "    .dataframe tbody tr th {\n",
       "        vertical-align: top;\n",
       "    }\n",
       "\n",
       "    .dataframe thead th {\n",
       "        text-align: right;\n",
       "    }\n",
       "</style>\n",
       "<table border=\"1\" class=\"dataframe\">\n",
       "  <thead>\n",
       "    <tr style=\"text-align: right;\">\n",
       "      <th></th>\n",
       "      <th>listing_id</th>\n",
       "      <th>date</th>\n",
       "      <th>available</th>\n",
       "      <th>price</th>\n",
       "      <th>adjusted_price</th>\n",
       "      <th>minimum_nights</th>\n",
       "      <th>maximum_nights</th>\n",
       "      <th>\"still\"_available_days_next_year</th>\n",
       "    </tr>\n",
       "  </thead>\n",
       "  <tbody>\n",
       "    <tr>\n",
       "      <th>5171975</th>\n",
       "      <td>33816485</td>\n",
       "      <td>2021-03-23</td>\n",
       "      <td>1</td>\n",
       "      <td>200.0</td>\n",
       "      <td>200.0</td>\n",
       "      <td>25.0</td>\n",
       "      <td>1125.0</td>\n",
       "      <td>171</td>\n",
       "    </tr>\n",
       "    <tr>\n",
       "      <th>2038382</th>\n",
       "      <td>13468786</td>\n",
       "      <td>2020-12-23</td>\n",
       "      <td>0</td>\n",
       "      <td>100.0</td>\n",
       "      <td>100.0</td>\n",
       "      <td>6.0</td>\n",
       "      <td>14.0</td>\n",
       "      <td>0</td>\n",
       "    </tr>\n",
       "    <tr>\n",
       "      <th>3924457</th>\n",
       "      <td>24149377</td>\n",
       "      <td>2021-06-17</td>\n",
       "      <td>0</td>\n",
       "      <td>69.0</td>\n",
       "      <td>69.0</td>\n",
       "      <td>6.0</td>\n",
       "      <td>30.0</td>\n",
       "      <td>0</td>\n",
       "    </tr>\n",
       "    <tr>\n",
       "      <th>3033489</th>\n",
       "      <td>19704885</td>\n",
       "      <td>2021-10-17</td>\n",
       "      <td>0</td>\n",
       "      <td>92.0</td>\n",
       "      <td>92.0</td>\n",
       "      <td>1.0</td>\n",
       "      <td>1125.0</td>\n",
       "      <td>64</td>\n",
       "    </tr>\n",
       "    <tr>\n",
       "      <th>3242362</th>\n",
       "      <td>20628435</td>\n",
       "      <td>2020-12-31</td>\n",
       "      <td>0</td>\n",
       "      <td>50.0</td>\n",
       "      <td>50.0</td>\n",
       "      <td>1.0</td>\n",
       "      <td>14.0</td>\n",
       "      <td>0</td>\n",
       "    </tr>\n",
       "  </tbody>\n",
       "</table>\n",
       "</div>"
      ],
      "text/plain": [
       "         listing_id        date  available  price  adjusted_price  \\\n",
       "5171975    33816485  2021-03-23          1  200.0           200.0   \n",
       "2038382    13468786  2020-12-23          0  100.0           100.0   \n",
       "3924457    24149377  2021-06-17          0   69.0            69.0   \n",
       "3033489    19704885  2021-10-17          0   92.0            92.0   \n",
       "3242362    20628435  2020-12-31          0   50.0            50.0   \n",
       "\n",
       "         minimum_nights  maximum_nights  \"still\"_available_days_next_year  \n",
       "5171975            25.0          1125.0                               171  \n",
       "2038382             6.0            14.0                                 0  \n",
       "3924457             6.0            30.0                                 0  \n",
       "3033489             1.0          1125.0                                64  \n",
       "3242362             1.0            14.0                                 0  "
      ]
     },
     "execution_count": 38,
     "metadata": {},
     "output_type": "execute_result"
    }
   ],
   "source": [
    "#Let's add a column indicating the sum of days a listing is still available next year - \n",
    "#this can later on be used to e.g. filter for active listings, assuming that no listing is fully booked a year in advance:\n",
    "Calendar_df = Calendar_df.join(Calendar_df.groupby(['listing_id'])['available'].sum(), on = 'listing_id', rsuffix = '_days_next_year')\n",
    "Calendar_df = Calendar_df.rename(columns={'available_days_next_year' : '\\\"still\\\"_available_days_next_year'})\n",
    "Calendar_df.sample(5)"
   ]
  },
  {
   "cell_type": "markdown",
   "metadata": {},
   "source": [
    "### Price"
   ]
  },
  {
   "cell_type": "code",
   "execution_count": 39,
   "metadata": {
    "scrolled": false
   },
   "outputs": [
    {
     "data": {
      "text/html": [
       "<div>\n",
       "<style scoped>\n",
       "    .dataframe tbody tr th:only-of-type {\n",
       "        vertical-align: middle;\n",
       "    }\n",
       "\n",
       "    .dataframe tbody tr th {\n",
       "        vertical-align: top;\n",
       "    }\n",
       "\n",
       "    .dataframe thead tr th {\n",
       "        text-align: left;\n",
       "    }\n",
       "\n",
       "    .dataframe thead tr:last-of-type th {\n",
       "        text-align: right;\n",
       "    }\n",
       "</style>\n",
       "<table border=\"1\" class=\"dataframe\">\n",
       "  <thead>\n",
       "    <tr>\n",
       "      <th></th>\n",
       "      <th colspan=\"8\" halign=\"left\">price</th>\n",
       "      <th colspan=\"8\" halign=\"left\">adjusted_price</th>\n",
       "    </tr>\n",
       "    <tr>\n",
       "      <th></th>\n",
       "      <th>count</th>\n",
       "      <th>mean</th>\n",
       "      <th>std</th>\n",
       "      <th>min</th>\n",
       "      <th>25%</th>\n",
       "      <th>50%</th>\n",
       "      <th>75%</th>\n",
       "      <th>max</th>\n",
       "      <th>count</th>\n",
       "      <th>mean</th>\n",
       "      <th>std</th>\n",
       "      <th>min</th>\n",
       "      <th>25%</th>\n",
       "      <th>50%</th>\n",
       "      <th>75%</th>\n",
       "      <th>max</th>\n",
       "    </tr>\n",
       "    <tr>\n",
       "      <th>listing_id</th>\n",
       "      <th></th>\n",
       "      <th></th>\n",
       "      <th></th>\n",
       "      <th></th>\n",
       "      <th></th>\n",
       "      <th></th>\n",
       "      <th></th>\n",
       "      <th></th>\n",
       "      <th></th>\n",
       "      <th></th>\n",
       "      <th></th>\n",
       "      <th></th>\n",
       "      <th></th>\n",
       "      <th></th>\n",
       "      <th></th>\n",
       "      <th></th>\n",
       "    </tr>\n",
       "  </thead>\n",
       "  <tbody>\n",
       "    <tr>\n",
       "      <th>54952</th>\n",
       "      <td>335.0</td>\n",
       "      <td>45.877612</td>\n",
       "      <td>1.852319</td>\n",
       "      <td>39.0</td>\n",
       "      <td>44.0</td>\n",
       "      <td>47.0</td>\n",
       "      <td>47.00</td>\n",
       "      <td>47.0</td>\n",
       "      <td>335.0</td>\n",
       "      <td>41.197015</td>\n",
       "      <td>1.454908</td>\n",
       "      <td>35.0</td>\n",
       "      <td>40.0</td>\n",
       "      <td>42.0</td>\n",
       "      <td>42.0</td>\n",
       "      <td>42.0</td>\n",
       "    </tr>\n",
       "    <tr>\n",
       "      <th>128827</th>\n",
       "      <td>335.0</td>\n",
       "      <td>59.000000</td>\n",
       "      <td>0.000000</td>\n",
       "      <td>59.0</td>\n",
       "      <td>59.0</td>\n",
       "      <td>59.0</td>\n",
       "      <td>59.00</td>\n",
       "      <td>59.0</td>\n",
       "      <td>335.0</td>\n",
       "      <td>53.000000</td>\n",
       "      <td>0.000000</td>\n",
       "      <td>53.0</td>\n",
       "      <td>53.0</td>\n",
       "      <td>53.0</td>\n",
       "      <td>53.0</td>\n",
       "      <td>53.0</td>\n",
       "    </tr>\n",
       "    <tr>\n",
       "      <th>135097</th>\n",
       "      <td>186.0</td>\n",
       "      <td>106.225806</td>\n",
       "      <td>20.025999</td>\n",
       "      <td>75.0</td>\n",
       "      <td>75.0</td>\n",
       "      <td>119.0</td>\n",
       "      <td>119.00</td>\n",
       "      <td>119.0</td>\n",
       "      <td>186.0</td>\n",
       "      <td>104.876344</td>\n",
       "      <td>21.111564</td>\n",
       "      <td>9.0</td>\n",
       "      <td>74.0</td>\n",
       "      <td>118.0</td>\n",
       "      <td>118.0</td>\n",
       "      <td>118.0</td>\n",
       "    </tr>\n",
       "    <tr>\n",
       "      <th>159454</th>\n",
       "      <td>185.0</td>\n",
       "      <td>161.000000</td>\n",
       "      <td>0.000000</td>\n",
       "      <td>161.0</td>\n",
       "      <td>161.0</td>\n",
       "      <td>161.0</td>\n",
       "      <td>161.00</td>\n",
       "      <td>161.0</td>\n",
       "      <td>185.0</td>\n",
       "      <td>129.000000</td>\n",
       "      <td>0.000000</td>\n",
       "      <td>129.0</td>\n",
       "      <td>129.0</td>\n",
       "      <td>129.0</td>\n",
       "      <td>129.0</td>\n",
       "      <td>129.0</td>\n",
       "    </tr>\n",
       "    <tr>\n",
       "      <th>242978</th>\n",
       "      <td>15.0</td>\n",
       "      <td>50.933333</td>\n",
       "      <td>6.776711</td>\n",
       "      <td>43.0</td>\n",
       "      <td>45.0</td>\n",
       "      <td>51.0</td>\n",
       "      <td>56.00</td>\n",
       "      <td>62.0</td>\n",
       "      <td>15.0</td>\n",
       "      <td>41.000000</td>\n",
       "      <td>4.140393</td>\n",
       "      <td>36.0</td>\n",
       "      <td>37.0</td>\n",
       "      <td>42.0</td>\n",
       "      <td>43.0</td>\n",
       "      <td>50.0</td>\n",
       "    </tr>\n",
       "    <tr>\n",
       "      <th>...</th>\n",
       "      <td>...</td>\n",
       "      <td>...</td>\n",
       "      <td>...</td>\n",
       "      <td>...</td>\n",
       "      <td>...</td>\n",
       "      <td>...</td>\n",
       "      <td>...</td>\n",
       "      <td>...</td>\n",
       "      <td>...</td>\n",
       "      <td>...</td>\n",
       "      <td>...</td>\n",
       "      <td>...</td>\n",
       "      <td>...</td>\n",
       "      <td>...</td>\n",
       "      <td>...</td>\n",
       "      <td>...</td>\n",
       "    </tr>\n",
       "    <tr>\n",
       "      <th>45399432</th>\n",
       "      <td>2.0</td>\n",
       "      <td>40.000000</td>\n",
       "      <td>0.000000</td>\n",
       "      <td>40.0</td>\n",
       "      <td>40.0</td>\n",
       "      <td>40.0</td>\n",
       "      <td>40.00</td>\n",
       "      <td>40.0</td>\n",
       "      <td>2.0</td>\n",
       "      <td>39.000000</td>\n",
       "      <td>0.000000</td>\n",
       "      <td>39.0</td>\n",
       "      <td>39.0</td>\n",
       "      <td>39.0</td>\n",
       "      <td>39.0</td>\n",
       "      <td>39.0</td>\n",
       "    </tr>\n",
       "    <tr>\n",
       "      <th>45406834</th>\n",
       "      <td>57.0</td>\n",
       "      <td>53.368421</td>\n",
       "      <td>2.192777</td>\n",
       "      <td>47.0</td>\n",
       "      <td>54.0</td>\n",
       "      <td>54.0</td>\n",
       "      <td>54.00</td>\n",
       "      <td>55.0</td>\n",
       "      <td>57.0</td>\n",
       "      <td>31.000000</td>\n",
       "      <td>3.560698</td>\n",
       "      <td>27.0</td>\n",
       "      <td>29.0</td>\n",
       "      <td>29.0</td>\n",
       "      <td>32.0</td>\n",
       "      <td>37.0</td>\n",
       "    </tr>\n",
       "    <tr>\n",
       "      <th>45406909</th>\n",
       "      <td>56.0</td>\n",
       "      <td>53.303571</td>\n",
       "      <td>2.396358</td>\n",
       "      <td>47.0</td>\n",
       "      <td>54.0</td>\n",
       "      <td>54.0</td>\n",
       "      <td>54.25</td>\n",
       "      <td>55.0</td>\n",
       "      <td>56.0</td>\n",
       "      <td>30.767857</td>\n",
       "      <td>3.761001</td>\n",
       "      <td>26.0</td>\n",
       "      <td>29.0</td>\n",
       "      <td>29.0</td>\n",
       "      <td>32.5</td>\n",
       "      <td>37.0</td>\n",
       "    </tr>\n",
       "    <tr>\n",
       "      <th>45477471</th>\n",
       "      <td>364.0</td>\n",
       "      <td>54.247253</td>\n",
       "      <td>0.593229</td>\n",
       "      <td>51.0</td>\n",
       "      <td>54.0</td>\n",
       "      <td>54.0</td>\n",
       "      <td>55.00</td>\n",
       "      <td>55.0</td>\n",
       "      <td>364.0</td>\n",
       "      <td>49.692308</td>\n",
       "      <td>8.360266</td>\n",
       "      <td>27.0</td>\n",
       "      <td>53.0</td>\n",
       "      <td>53.0</td>\n",
       "      <td>53.0</td>\n",
       "      <td>54.0</td>\n",
       "    </tr>\n",
       "    <tr>\n",
       "      <th>45617365</th>\n",
       "      <td>2.0</td>\n",
       "      <td>59.000000</td>\n",
       "      <td>0.000000</td>\n",
       "      <td>59.0</td>\n",
       "      <td>59.0</td>\n",
       "      <td>59.0</td>\n",
       "      <td>59.00</td>\n",
       "      <td>59.0</td>\n",
       "      <td>2.0</td>\n",
       "      <td>57.000000</td>\n",
       "      <td>0.000000</td>\n",
       "      <td>57.0</td>\n",
       "      <td>57.0</td>\n",
       "      <td>57.0</td>\n",
       "      <td>57.0</td>\n",
       "      <td>57.0</td>\n",
       "    </tr>\n",
       "  </tbody>\n",
       "</table>\n",
       "<p>546 rows × 16 columns</p>\n",
       "</div>"
      ],
      "text/plain": [
       "            price                                                             \\\n",
       "            count        mean        std    min    25%    50%     75%    max   \n",
       "listing_id                                                                     \n",
       "54952       335.0   45.877612   1.852319   39.0   44.0   47.0   47.00   47.0   \n",
       "128827      335.0   59.000000   0.000000   59.0   59.0   59.0   59.00   59.0   \n",
       "135097      186.0  106.225806  20.025999   75.0   75.0  119.0  119.00  119.0   \n",
       "159454      185.0  161.000000   0.000000  161.0  161.0  161.0  161.00  161.0   \n",
       "242978       15.0   50.933333   6.776711   43.0   45.0   51.0   56.00   62.0   \n",
       "...           ...         ...        ...    ...    ...    ...     ...    ...   \n",
       "45399432      2.0   40.000000   0.000000   40.0   40.0   40.0   40.00   40.0   \n",
       "45406834     57.0   53.368421   2.192777   47.0   54.0   54.0   54.00   55.0   \n",
       "45406909     56.0   53.303571   2.396358   47.0   54.0   54.0   54.25   55.0   \n",
       "45477471    364.0   54.247253   0.593229   51.0   54.0   54.0   55.00   55.0   \n",
       "45617365      2.0   59.000000   0.000000   59.0   59.0   59.0   59.00   59.0   \n",
       "\n",
       "           adjusted_price                                                     \\\n",
       "                    count        mean        std    min    25%    50%    75%   \n",
       "listing_id                                                                     \n",
       "54952               335.0   41.197015   1.454908   35.0   40.0   42.0   42.0   \n",
       "128827              335.0   53.000000   0.000000   53.0   53.0   53.0   53.0   \n",
       "135097              186.0  104.876344  21.111564    9.0   74.0  118.0  118.0   \n",
       "159454              185.0  129.000000   0.000000  129.0  129.0  129.0  129.0   \n",
       "242978               15.0   41.000000   4.140393   36.0   37.0   42.0   43.0   \n",
       "...                   ...         ...        ...    ...    ...    ...    ...   \n",
       "45399432              2.0   39.000000   0.000000   39.0   39.0   39.0   39.0   \n",
       "45406834             57.0   31.000000   3.560698   27.0   29.0   29.0   32.0   \n",
       "45406909             56.0   30.767857   3.761001   26.0   29.0   29.0   32.5   \n",
       "45477471            364.0   49.692308   8.360266   27.0   53.0   53.0   53.0   \n",
       "45617365              2.0   57.000000   0.000000   57.0   57.0   57.0   57.0   \n",
       "\n",
       "                   \n",
       "              max  \n",
       "listing_id         \n",
       "54952        42.0  \n",
       "128827       53.0  \n",
       "135097      118.0  \n",
       "159454      129.0  \n",
       "242978       50.0  \n",
       "...           ...  \n",
       "45399432     39.0  \n",
       "45406834     37.0  \n",
       "45406909     37.0  \n",
       "45477471     54.0  \n",
       "45617365     57.0  \n",
       "\n",
       "[546 rows x 16 columns]"
      ]
     },
     "execution_count": 39,
     "metadata": {},
     "output_type": "execute_result"
    }
   ],
   "source": [
    "#The price of listings is not constant over time.\n",
    "#This is also important to understand for the price \"estimate\" in our listings df.\n",
    "Calendar_df.loc[Calendar_df['price'] != Calendar_df['adjusted_price']].groupby(\n",
    "    ['listing_id']).agg({'price':'describe', 'adjusted_price':'describe'})"
   ]
  },
  {
   "cell_type": "code",
   "execution_count": 40,
   "metadata": {},
   "outputs": [],
   "source": [
    "#adjusted_price is not simply the mean price of a listing - as I'm uncertain what the column describes we are going \n",
    "#to drop it \n",
    "Calendar_df = Calendar_df.drop(Calendar_df['adjusted_price'])"
   ]
  },
  {
   "cell_type": "code",
   "execution_count": 41,
   "metadata": {
    "scrolled": true
   },
   "outputs": [
    {
     "data": {
      "text/html": [
       "<div>\n",
       "<style scoped>\n",
       "    .dataframe tbody tr th:only-of-type {\n",
       "        vertical-align: middle;\n",
       "    }\n",
       "\n",
       "    .dataframe tbody tr th {\n",
       "        vertical-align: top;\n",
       "    }\n",
       "\n",
       "    .dataframe thead th {\n",
       "        text-align: right;\n",
       "    }\n",
       "</style>\n",
       "<table border=\"1\" class=\"dataframe\">\n",
       "  <thead>\n",
       "    <tr style=\"text-align: right;\">\n",
       "      <th></th>\n",
       "      <th>listing_id</th>\n",
       "      <th>date</th>\n",
       "      <th>available</th>\n",
       "      <th>price</th>\n",
       "      <th>adjusted_price</th>\n",
       "      <th>minimum_nights</th>\n",
       "      <th>maximum_nights</th>\n",
       "      <th>\"still\"_available_days_next_year</th>\n",
       "      <th>year_avg_price</th>\n",
       "    </tr>\n",
       "  </thead>\n",
       "  <tbody>\n",
       "    <tr>\n",
       "      <th>3784982</th>\n",
       "      <td>23363958</td>\n",
       "      <td>2021-08-17</td>\n",
       "      <td>0</td>\n",
       "      <td>18.0</td>\n",
       "      <td>18.0</td>\n",
       "      <td>1.0</td>\n",
       "      <td>1125.0</td>\n",
       "      <td>0</td>\n",
       "      <td>17.024658</td>\n",
       "    </tr>\n",
       "    <tr>\n",
       "      <th>6269702</th>\n",
       "      <td>40647672</td>\n",
       "      <td>2020-12-17</td>\n",
       "      <td>1</td>\n",
       "      <td>79.0</td>\n",
       "      <td>79.0</td>\n",
       "      <td>4.0</td>\n",
       "      <td>1125.0</td>\n",
       "      <td>180</td>\n",
       "      <td>79.000000</td>\n",
       "    </tr>\n",
       "    <tr>\n",
       "      <th>1159550</th>\n",
       "      <td>7425576</td>\n",
       "      <td>2021-07-14</td>\n",
       "      <td>0</td>\n",
       "      <td>57.0</td>\n",
       "      <td>57.0</td>\n",
       "      <td>5.0</td>\n",
       "      <td>1125.0</td>\n",
       "      <td>0</td>\n",
       "      <td>57.000000</td>\n",
       "    </tr>\n",
       "    <tr>\n",
       "      <th>91815</th>\n",
       "      <td>265354</td>\n",
       "      <td>2021-02-21</td>\n",
       "      <td>1</td>\n",
       "      <td>68.0</td>\n",
       "      <td>68.0</td>\n",
       "      <td>1.0</td>\n",
       "      <td>14.0</td>\n",
       "      <td>352</td>\n",
       "      <td>116.315068</td>\n",
       "    </tr>\n",
       "    <tr>\n",
       "      <th>1025759</th>\n",
       "      <td>5757230</td>\n",
       "      <td>2020-12-11</td>\n",
       "      <td>0</td>\n",
       "      <td>70.0</td>\n",
       "      <td>70.0</td>\n",
       "      <td>1.0</td>\n",
       "      <td>1125.0</td>\n",
       "      <td>0</td>\n",
       "      <td>70.000000</td>\n",
       "    </tr>\n",
       "  </tbody>\n",
       "</table>\n",
       "</div>"
      ],
      "text/plain": [
       "         listing_id        date  available  price  adjusted_price  \\\n",
       "3784982    23363958  2021-08-17          0   18.0            18.0   \n",
       "6269702    40647672  2020-12-17          1   79.0            79.0   \n",
       "1159550     7425576  2021-07-14          0   57.0            57.0   \n",
       "91815        265354  2021-02-21          1   68.0            68.0   \n",
       "1025759     5757230  2020-12-11          0   70.0            70.0   \n",
       "\n",
       "         minimum_nights  maximum_nights  \"still\"_available_days_next_year  \\\n",
       "3784982             1.0          1125.0                                 0   \n",
       "6269702             4.0          1125.0                               180   \n",
       "1159550             5.0          1125.0                                 0   \n",
       "91815               1.0            14.0                               352   \n",
       "1025759             1.0          1125.0                                 0   \n",
       "\n",
       "         year_avg_price  \n",
       "3784982       17.024658  \n",
       "6269702       79.000000  \n",
       "1159550       57.000000  \n",
       "91815        116.315068  \n",
       "1025759       70.000000  "
      ]
     },
     "execution_count": 41,
     "metadata": {},
     "output_type": "execute_result"
    }
   ],
   "source": [
    "#and replace it with a year_avg_price column:\n",
    "Calendar_df = Calendar_df.join(Calendar_df.groupby(['listing_id']).agg({'price': 'mean'}), on = 'listing_id', rsuffix = '_mean')\n",
    "Calendar_df = Calendar_df.rename(columns={'price_mean' : 'year_avg_price'})\n",
    "Calendar_df.sample(5)"
   ]
  },
  {
   "cell_type": "markdown",
   "metadata": {},
   "source": [
    "### Write Calendar Data to file:"
   ]
  },
  {
   "cell_type": "code",
   "execution_count": 42,
   "metadata": {},
   "outputs": [],
   "source": [
    "Calendar_df.to_csv('Calendar_processed.csv', index=False)"
   ]
  },
  {
   "cell_type": "markdown",
   "metadata": {},
   "source": [
    "# Checking out: Reviews Data"
   ]
  },
  {
   "cell_type": "code",
   "execution_count": 61,
   "metadata": {},
   "outputs": [
    {
     "data": {
      "text/plain": [
       "Index(['listing_id', 'date'], dtype='object')"
      ]
     },
     "execution_count": 61,
     "metadata": {},
     "output_type": "execute_result"
    }
   ],
   "source": [
    "review_df = pd.read_csv('reviews_Summary.csv')\n",
    "review_df.columns"
   ]
  },
  {
   "cell_type": "code",
   "execution_count": 62,
   "metadata": {
    "scrolled": false
   },
   "outputs": [
    {
     "data": {
      "text/html": [
       "<div>\n",
       "<style scoped>\n",
       "    .dataframe tbody tr th:only-of-type {\n",
       "        vertical-align: middle;\n",
       "    }\n",
       "\n",
       "    .dataframe tbody tr th {\n",
       "        vertical-align: top;\n",
       "    }\n",
       "\n",
       "    .dataframe thead th {\n",
       "        text-align: right;\n",
       "    }\n",
       "</style>\n",
       "<table border=\"1\" class=\"dataframe\">\n",
       "  <thead>\n",
       "    <tr style=\"text-align: right;\">\n",
       "      <th></th>\n",
       "      <th>listing_id</th>\n",
       "      <th>date</th>\n",
       "    </tr>\n",
       "  </thead>\n",
       "  <tbody>\n",
       "    <tr>\n",
       "      <th>0</th>\n",
       "      <td>2015</td>\n",
       "      <td>2016-04-11</td>\n",
       "    </tr>\n",
       "    <tr>\n",
       "      <th>1</th>\n",
       "      <td>2015</td>\n",
       "      <td>2016-04-15</td>\n",
       "    </tr>\n",
       "    <tr>\n",
       "      <th>2</th>\n",
       "      <td>2015</td>\n",
       "      <td>2016-04-26</td>\n",
       "    </tr>\n",
       "    <tr>\n",
       "      <th>3</th>\n",
       "      <td>2015</td>\n",
       "      <td>2016-05-10</td>\n",
       "    </tr>\n",
       "    <tr>\n",
       "      <th>4</th>\n",
       "      <td>2015</td>\n",
       "      <td>2016-05-14</td>\n",
       "    </tr>\n",
       "  </tbody>\n",
       "</table>\n",
       "</div>"
      ],
      "text/plain": [
       "   listing_id        date\n",
       "0        2015  2016-04-11\n",
       "1        2015  2016-04-15\n",
       "2        2015  2016-04-26\n",
       "3        2015  2016-05-10\n",
       "4        2015  2016-05-14"
      ]
     },
     "execution_count": 62,
     "metadata": {},
     "output_type": "execute_result"
    }
   ],
   "source": [
    "review_df.head()"
   ]
  },
  {
   "cell_type": "code",
   "execution_count": 63,
   "metadata": {},
   "outputs": [
    {
     "data": {
      "text/html": [
       "<div>\n",
       "<style scoped>\n",
       "    .dataframe tbody tr th:only-of-type {\n",
       "        vertical-align: middle;\n",
       "    }\n",
       "\n",
       "    .dataframe tbody tr th {\n",
       "        vertical-align: top;\n",
       "    }\n",
       "\n",
       "    .dataframe thead th {\n",
       "        text-align: right;\n",
       "    }\n",
       "</style>\n",
       "<table border=\"1\" class=\"dataframe\">\n",
       "  <thead>\n",
       "    <tr style=\"text-align: right;\">\n",
       "      <th></th>\n",
       "      <th>listing_id</th>\n",
       "      <th>date</th>\n",
       "      <th>listing_id_sum</th>\n",
       "    </tr>\n",
       "  </thead>\n",
       "  <tbody>\n",
       "    <tr>\n",
       "      <th>0</th>\n",
       "      <td>2015</td>\n",
       "      <td>2016-04-11</td>\n",
       "      <td>134</td>\n",
       "    </tr>\n",
       "    <tr>\n",
       "      <th>1</th>\n",
       "      <td>2015</td>\n",
       "      <td>2016-04-15</td>\n",
       "      <td>134</td>\n",
       "    </tr>\n",
       "    <tr>\n",
       "      <th>2</th>\n",
       "      <td>2015</td>\n",
       "      <td>2016-04-26</td>\n",
       "      <td>134</td>\n",
       "    </tr>\n",
       "    <tr>\n",
       "      <th>3</th>\n",
       "      <td>2015</td>\n",
       "      <td>2016-05-10</td>\n",
       "      <td>134</td>\n",
       "    </tr>\n",
       "    <tr>\n",
       "      <th>4</th>\n",
       "      <td>2015</td>\n",
       "      <td>2016-05-14</td>\n",
       "      <td>134</td>\n",
       "    </tr>\n",
       "    <tr>\n",
       "      <th>...</th>\n",
       "      <td>...</td>\n",
       "      <td>...</td>\n",
       "      <td>...</td>\n",
       "    </tr>\n",
       "    <tr>\n",
       "      <th>468053</th>\n",
       "      <td>45823437</td>\n",
       "      <td>2020-10-14</td>\n",
       "      <td>4</td>\n",
       "    </tr>\n",
       "    <tr>\n",
       "      <th>468054</th>\n",
       "      <td>45823437</td>\n",
       "      <td>2020-10-15</td>\n",
       "      <td>4</td>\n",
       "    </tr>\n",
       "    <tr>\n",
       "      <th>468055</th>\n",
       "      <td>45823437</td>\n",
       "      <td>2020-10-18</td>\n",
       "      <td>4</td>\n",
       "    </tr>\n",
       "    <tr>\n",
       "      <th>468056</th>\n",
       "      <td>45824196</td>\n",
       "      <td>2020-10-18</td>\n",
       "      <td>1</td>\n",
       "    </tr>\n",
       "    <tr>\n",
       "      <th>468057</th>\n",
       "      <td>45854967</td>\n",
       "      <td>2020-10-18</td>\n",
       "      <td>1</td>\n",
       "    </tr>\n",
       "  </tbody>\n",
       "</table>\n",
       "<p>468058 rows × 3 columns</p>\n",
       "</div>"
      ],
      "text/plain": [
       "        listing_id        date  listing_id_sum\n",
       "0             2015  2016-04-11             134\n",
       "1             2015  2016-04-15             134\n",
       "2             2015  2016-04-26             134\n",
       "3             2015  2016-05-10             134\n",
       "4             2015  2016-05-14             134\n",
       "...            ...         ...             ...\n",
       "468053    45823437  2020-10-14               4\n",
       "468054    45823437  2020-10-15               4\n",
       "468055    45823437  2020-10-18               4\n",
       "468056    45824196  2020-10-18               1\n",
       "468057    45854967  2020-10-18               1\n",
       "\n",
       "[468058 rows x 3 columns]"
      ]
     },
     "execution_count": 63,
     "metadata": {},
     "output_type": "execute_result"
    }
   ],
   "source": [
    "#create a new column indicating each listings sum of reviews:\n",
    "review_df = review_df.join(review_df.groupby(['listing_id']\n",
    "                                            ).agg({'listing_id':'count'}), \n",
    "                                                   on = 'listing_id', rsuffix = '_sum')\n",
    "\n",
    "review_df"
   ]
  },
  {
   "cell_type": "markdown",
   "metadata": {},
   "source": [
    "#### \"listing_id_sum\" is alread included in the listings_df under \"number_of_reviews\". Thus we dont need the reviews dataframe for our analysis."
   ]
  }
 ],
 "metadata": {
  "kernelspec": {
   "display_name": "Python 3",
   "language": "python",
   "name": "python3"
  },
  "language_info": {
   "codemirror_mode": {
    "name": "ipython",
    "version": 3
   },
   "file_extension": ".py",
   "mimetype": "text/x-python",
   "name": "python",
   "nbconvert_exporter": "python",
   "pygments_lexer": "ipython3",
   "version": "3.8.6"
  }
 },
 "nbformat": 4,
 "nbformat_minor": 2
}
