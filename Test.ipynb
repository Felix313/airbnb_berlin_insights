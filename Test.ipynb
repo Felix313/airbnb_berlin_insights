{
 "metadata": {
  "language_info": {
   "codemirror_mode": {
    "name": "ipython",
    "version": 3
   },
   "file_extension": ".py",
   "mimetype": "text/x-python",
   "name": "python",
   "nbconvert_exporter": "python",
   "pygments_lexer": "ipython3",
   "version": "3.8.5-final"
  },
  "orig_nbformat": 2,
  "kernelspec": {
   "name": "python3",
   "display_name": "Python 3"
  }
 },
 "nbformat": 4,
 "nbformat_minor": 2,
 "cells": [
  {
   "cell_type": "code",
   "execution_count": 3,
   "metadata": {},
   "outputs": [
    {
     "output_type": "execute_result",
     "data": {
      "text/plain": [
       "   listing_id        date available   price adjusted_price  minimum_nights  \\\n",
       "0        2015  2020-10-21         t  $54.00         $54.00            29.0   \n",
       "1       68142  2020-10-20         f  $29.00         $29.00             2.0   \n",
       "2       68142  2020-10-21         f  $29.00         $29.00             2.0   \n",
       "3       68142  2020-10-22         f  $29.00         $29.00             2.0   \n",
       "4       68142  2020-10-23         f  $29.00         $29.00             2.0   \n",
       "\n",
       "   maximum_nights  \n",
       "0          1125.0  \n",
       "1            30.0  \n",
       "2            30.0  \n",
       "3            30.0  \n",
       "4            30.0  "
      ],
      "text/html": "<div>\n<style scoped>\n    .dataframe tbody tr th:only-of-type {\n        vertical-align: middle;\n    }\n\n    .dataframe tbody tr th {\n        vertical-align: top;\n    }\n\n    .dataframe thead th {\n        text-align: right;\n    }\n</style>\n<table border=\"1\" class=\"dataframe\">\n  <thead>\n    <tr style=\"text-align: right;\">\n      <th></th>\n      <th>listing_id</th>\n      <th>date</th>\n      <th>available</th>\n      <th>price</th>\n      <th>adjusted_price</th>\n      <th>minimum_nights</th>\n      <th>maximum_nights</th>\n    </tr>\n  </thead>\n  <tbody>\n    <tr>\n      <th>0</th>\n      <td>2015</td>\n      <td>2020-10-21</td>\n      <td>t</td>\n      <td>$54.00</td>\n      <td>$54.00</td>\n      <td>29.0</td>\n      <td>1125.0</td>\n    </tr>\n    <tr>\n      <th>1</th>\n      <td>68142</td>\n      <td>2020-10-20</td>\n      <td>f</td>\n      <td>$29.00</td>\n      <td>$29.00</td>\n      <td>2.0</td>\n      <td>30.0</td>\n    </tr>\n    <tr>\n      <th>2</th>\n      <td>68142</td>\n      <td>2020-10-21</td>\n      <td>f</td>\n      <td>$29.00</td>\n      <td>$29.00</td>\n      <td>2.0</td>\n      <td>30.0</td>\n    </tr>\n    <tr>\n      <th>3</th>\n      <td>68142</td>\n      <td>2020-10-22</td>\n      <td>f</td>\n      <td>$29.00</td>\n      <td>$29.00</td>\n      <td>2.0</td>\n      <td>30.0</td>\n    </tr>\n    <tr>\n      <th>4</th>\n      <td>68142</td>\n      <td>2020-10-23</td>\n      <td>f</td>\n      <td>$29.00</td>\n      <td>$29.00</td>\n      <td>2.0</td>\n      <td>30.0</td>\n    </tr>\n  </tbody>\n</table>\n</div>"
     },
     "metadata": {},
     "execution_count": 3
    }
   ],
   "source": [
    "import numpy as np\n",
    "import pandas as pd\n",
    "import matplotlib.pyplot as plt\n",
    "import seaborn as sns\n",
    "%matplotlib inline\n",
    "import os\n",
    "os.chdir('C:/Users/felix/Desktop/NanoDegree')\n",
    "\n",
    "df = pd.read_csv(\"./calendar.csv\")\n",
    "df.head()"
   ]
  },
  {
   "cell_type": "code",
   "execution_count": 1,
   "metadata": {},
   "outputs": [
    {
     "output_type": "execute_result",
     "data": {
      "text/plain": [
       "'c:\\\\Users\\\\felix\\\\Documents\\\\GitHub\\\\airbnb_berlin_insights'"
      ]
     },
     "metadata": {},
     "execution_count": 1
    }
   ],
   "source": [
    "os.getcwd()"
   ]
  },
  {
   "cell_type": "code",
   "execution_count": null,
   "metadata": {},
   "outputs": [],
   "source": []
  },
  {
   "cell_type": "code",
   "execution_count": null,
   "metadata": {},
   "outputs": [],
   "source": []
  }
 ]
}